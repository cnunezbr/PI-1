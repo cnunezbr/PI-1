{
 "cells": [
  {
   "cell_type": "markdown",
   "metadata": {},
   "source": [
    "Se realiza el Análisis Exploratorio de los Datos de los tres archivos de datos ya limpios para finalmente elegir las variables que serán usadas para entrenar el modelo de recomendación solicitado. Esto se hace teniendo en cuenta el gran volumen de información y los recursos de procesamiento y almacenamiento, sobretodo al momento de deployar el proyecto, los cuales son limitados."
   ]
  },
  {
   "cell_type": "code",
   "execution_count": 1,
   "metadata": {},
   "outputs": [],
   "source": [
    "import pandas as pd             # importo modulo panda Data Analysis Library\n",
    "import matplotlib.pyplot as plt # importo modulo pyplot de Matplotlib Library\n",
    "import seaborn as sns           # importo modulo seaborn\n",
    "import warnings                 # importo modulo warnings - Ignore all warnings\n",
    "warnings.filterwarnings(\"ignore\")"
   ]
  },
  {
   "cell_type": "markdown",
   "metadata": {},
   "source": [
    "EDA del dataset  `df_user_reviews`"
   ]
  },
  {
   "cell_type": "markdown",
   "metadata": {},
   "source": [
    "En esta sección se desarrolla el Análisis Exploratorio de los Datos del archivo `df_user_reviews` que ya pasó por el proceso de ETL."
   ]
  },
  {
   "cell_type": "markdown",
   "metadata": {},
   "source": [
    "Se leen los datos de .csv y se guarda en un dataframe."
   ]
  },
  {
   "cell_type": "code",
   "execution_count": 2,
   "metadata": {},
   "outputs": [
    {
     "ename": "FileNotFoundError",
     "evalue": "[Errno 2] No such file or directory: 'Datos/df_user_reviews.csv'",
     "output_type": "error",
     "traceback": [
      "\u001b[1;31m---------------------------------------------------------------------------\u001b[0m",
      "\u001b[1;31mFileNotFoundError\u001b[0m                         Traceback (most recent call last)",
      "\u001b[1;32mc:\\Users\\cecin\\Documents\\HENRY\\PI-1\\EDA_datasets.ipynb Cell 6\u001b[0m line \u001b[0;36m1\n\u001b[1;32m----> <a href='vscode-notebook-cell:/c%3A/Users/cecin/Documents/HENRY/PI-1/EDA_datasets.ipynb#W5sZmlsZQ%3D%3D?line=0'>1</a>\u001b[0m df_review \u001b[39m=\u001b[39m pd\u001b[39m.\u001b[39;49mread_csv(\u001b[39m'\u001b[39;49m\u001b[39mDatos/df_user_reviews.csv\u001b[39;49m\u001b[39m'\u001b[39;49m, encoding\u001b[39m=\u001b[39;49m\u001b[39m'\u001b[39;49m\u001b[39mutf-8\u001b[39;49m\u001b[39m'\u001b[39;49m)\n\u001b[0;32m      <a href='vscode-notebook-cell:/c%3A/Users/cecin/Documents/HENRY/PI-1/EDA_datasets.ipynb#W5sZmlsZQ%3D%3D?line=1'>2</a>\u001b[0m df_review\u001b[39m.\u001b[39mhead()\n",
      "File \u001b[1;32mc:\\Users\\cecin\\AppData\\Local\\Programs\\Python\\Python311\\Lib\\site-packages\\pandas\\io\\parsers\\readers.py:912\u001b[0m, in \u001b[0;36mread_csv\u001b[1;34m(filepath_or_buffer, sep, delimiter, header, names, index_col, usecols, dtype, engine, converters, true_values, false_values, skipinitialspace, skiprows, skipfooter, nrows, na_values, keep_default_na, na_filter, verbose, skip_blank_lines, parse_dates, infer_datetime_format, keep_date_col, date_parser, date_format, dayfirst, cache_dates, iterator, chunksize, compression, thousands, decimal, lineterminator, quotechar, quoting, doublequote, escapechar, comment, encoding, encoding_errors, dialect, on_bad_lines, delim_whitespace, low_memory, memory_map, float_precision, storage_options, dtype_backend)\u001b[0m\n\u001b[0;32m    899\u001b[0m kwds_defaults \u001b[39m=\u001b[39m _refine_defaults_read(\n\u001b[0;32m    900\u001b[0m     dialect,\n\u001b[0;32m    901\u001b[0m     delimiter,\n\u001b[1;32m   (...)\u001b[0m\n\u001b[0;32m    908\u001b[0m     dtype_backend\u001b[39m=\u001b[39mdtype_backend,\n\u001b[0;32m    909\u001b[0m )\n\u001b[0;32m    910\u001b[0m kwds\u001b[39m.\u001b[39mupdate(kwds_defaults)\n\u001b[1;32m--> 912\u001b[0m \u001b[39mreturn\u001b[39;00m _read(filepath_or_buffer, kwds)\n",
      "File \u001b[1;32mc:\\Users\\cecin\\AppData\\Local\\Programs\\Python\\Python311\\Lib\\site-packages\\pandas\\io\\parsers\\readers.py:577\u001b[0m, in \u001b[0;36m_read\u001b[1;34m(filepath_or_buffer, kwds)\u001b[0m\n\u001b[0;32m    574\u001b[0m _validate_names(kwds\u001b[39m.\u001b[39mget(\u001b[39m\"\u001b[39m\u001b[39mnames\u001b[39m\u001b[39m\"\u001b[39m, \u001b[39mNone\u001b[39;00m))\n\u001b[0;32m    576\u001b[0m \u001b[39m# Create the parser.\u001b[39;00m\n\u001b[1;32m--> 577\u001b[0m parser \u001b[39m=\u001b[39m TextFileReader(filepath_or_buffer, \u001b[39m*\u001b[39;49m\u001b[39m*\u001b[39;49mkwds)\n\u001b[0;32m    579\u001b[0m \u001b[39mif\u001b[39;00m chunksize \u001b[39mor\u001b[39;00m iterator:\n\u001b[0;32m    580\u001b[0m     \u001b[39mreturn\u001b[39;00m parser\n",
      "File \u001b[1;32mc:\\Users\\cecin\\AppData\\Local\\Programs\\Python\\Python311\\Lib\\site-packages\\pandas\\io\\parsers\\readers.py:1407\u001b[0m, in \u001b[0;36mTextFileReader.__init__\u001b[1;34m(self, f, engine, **kwds)\u001b[0m\n\u001b[0;32m   1404\u001b[0m     \u001b[39mself\u001b[39m\u001b[39m.\u001b[39moptions[\u001b[39m\"\u001b[39m\u001b[39mhas_index_names\u001b[39m\u001b[39m\"\u001b[39m] \u001b[39m=\u001b[39m kwds[\u001b[39m\"\u001b[39m\u001b[39mhas_index_names\u001b[39m\u001b[39m\"\u001b[39m]\n\u001b[0;32m   1406\u001b[0m \u001b[39mself\u001b[39m\u001b[39m.\u001b[39mhandles: IOHandles \u001b[39m|\u001b[39m \u001b[39mNone\u001b[39;00m \u001b[39m=\u001b[39m \u001b[39mNone\u001b[39;00m\n\u001b[1;32m-> 1407\u001b[0m \u001b[39mself\u001b[39m\u001b[39m.\u001b[39m_engine \u001b[39m=\u001b[39m \u001b[39mself\u001b[39;49m\u001b[39m.\u001b[39;49m_make_engine(f, \u001b[39mself\u001b[39;49m\u001b[39m.\u001b[39;49mengine)\n",
      "File \u001b[1;32mc:\\Users\\cecin\\AppData\\Local\\Programs\\Python\\Python311\\Lib\\site-packages\\pandas\\io\\parsers\\readers.py:1661\u001b[0m, in \u001b[0;36mTextFileReader._make_engine\u001b[1;34m(self, f, engine)\u001b[0m\n\u001b[0;32m   1659\u001b[0m     \u001b[39mif\u001b[39;00m \u001b[39m\"\u001b[39m\u001b[39mb\u001b[39m\u001b[39m\"\u001b[39m \u001b[39mnot\u001b[39;00m \u001b[39min\u001b[39;00m mode:\n\u001b[0;32m   1660\u001b[0m         mode \u001b[39m+\u001b[39m\u001b[39m=\u001b[39m \u001b[39m\"\u001b[39m\u001b[39mb\u001b[39m\u001b[39m\"\u001b[39m\n\u001b[1;32m-> 1661\u001b[0m \u001b[39mself\u001b[39m\u001b[39m.\u001b[39mhandles \u001b[39m=\u001b[39m get_handle(\n\u001b[0;32m   1662\u001b[0m     f,\n\u001b[0;32m   1663\u001b[0m     mode,\n\u001b[0;32m   1664\u001b[0m     encoding\u001b[39m=\u001b[39;49m\u001b[39mself\u001b[39;49m\u001b[39m.\u001b[39;49moptions\u001b[39m.\u001b[39;49mget(\u001b[39m\"\u001b[39;49m\u001b[39mencoding\u001b[39;49m\u001b[39m\"\u001b[39;49m, \u001b[39mNone\u001b[39;49;00m),\n\u001b[0;32m   1665\u001b[0m     compression\u001b[39m=\u001b[39;49m\u001b[39mself\u001b[39;49m\u001b[39m.\u001b[39;49moptions\u001b[39m.\u001b[39;49mget(\u001b[39m\"\u001b[39;49m\u001b[39mcompression\u001b[39;49m\u001b[39m\"\u001b[39;49m, \u001b[39mNone\u001b[39;49;00m),\n\u001b[0;32m   1666\u001b[0m     memory_map\u001b[39m=\u001b[39;49m\u001b[39mself\u001b[39;49m\u001b[39m.\u001b[39;49moptions\u001b[39m.\u001b[39;49mget(\u001b[39m\"\u001b[39;49m\u001b[39mmemory_map\u001b[39;49m\u001b[39m\"\u001b[39;49m, \u001b[39mFalse\u001b[39;49;00m),\n\u001b[0;32m   1667\u001b[0m     is_text\u001b[39m=\u001b[39;49mis_text,\n\u001b[0;32m   1668\u001b[0m     errors\u001b[39m=\u001b[39;49m\u001b[39mself\u001b[39;49m\u001b[39m.\u001b[39;49moptions\u001b[39m.\u001b[39;49mget(\u001b[39m\"\u001b[39;49m\u001b[39mencoding_errors\u001b[39;49m\u001b[39m\"\u001b[39;49m, \u001b[39m\"\u001b[39;49m\u001b[39mstrict\u001b[39;49m\u001b[39m\"\u001b[39;49m),\n\u001b[0;32m   1669\u001b[0m     storage_options\u001b[39m=\u001b[39;49m\u001b[39mself\u001b[39;49m\u001b[39m.\u001b[39;49moptions\u001b[39m.\u001b[39;49mget(\u001b[39m\"\u001b[39;49m\u001b[39mstorage_options\u001b[39;49m\u001b[39m\"\u001b[39;49m, \u001b[39mNone\u001b[39;49;00m),\n\u001b[0;32m   1670\u001b[0m )\n\u001b[0;32m   1671\u001b[0m \u001b[39massert\u001b[39;00m \u001b[39mself\u001b[39m\u001b[39m.\u001b[39mhandles \u001b[39mis\u001b[39;00m \u001b[39mnot\u001b[39;00m \u001b[39mNone\u001b[39;00m\n\u001b[0;32m   1672\u001b[0m f \u001b[39m=\u001b[39m \u001b[39mself\u001b[39m\u001b[39m.\u001b[39mhandles\u001b[39m.\u001b[39mhandle\n",
      "File \u001b[1;32mc:\\Users\\cecin\\AppData\\Local\\Programs\\Python\\Python311\\Lib\\site-packages\\pandas\\io\\common.py:868\u001b[0m, in \u001b[0;36mget_handle\u001b[1;34m(path_or_buf, mode, encoding, compression, memory_map, is_text, errors, storage_options)\u001b[0m\n\u001b[0;32m    859\u001b[0m         handle \u001b[39m=\u001b[39m \u001b[39mopen\u001b[39m(\n\u001b[0;32m    860\u001b[0m             handle,\n\u001b[0;32m    861\u001b[0m             ioargs\u001b[39m.\u001b[39mmode,\n\u001b[1;32m   (...)\u001b[0m\n\u001b[0;32m    864\u001b[0m             newline\u001b[39m=\u001b[39m\u001b[39m\"\u001b[39m\u001b[39m\"\u001b[39m,\n\u001b[0;32m    865\u001b[0m         )\n\u001b[0;32m    866\u001b[0m     \u001b[39melse\u001b[39;00m:\n\u001b[0;32m    867\u001b[0m         \u001b[39m# Binary mode\u001b[39;00m\n\u001b[1;32m--> 868\u001b[0m         handle \u001b[39m=\u001b[39m \u001b[39mopen\u001b[39;49m(handle, ioargs\u001b[39m.\u001b[39;49mmode)\n\u001b[0;32m    869\u001b[0m     handles\u001b[39m.\u001b[39mappend(handle)\n\u001b[0;32m    871\u001b[0m \u001b[39m# Convert BytesIO or file objects passed with an encoding\u001b[39;00m\n",
      "\u001b[1;31mFileNotFoundError\u001b[0m: [Errno 2] No such file or directory: 'Datos/df_user_reviews.csv'"
     ]
    }
   ],
   "source": [
    "df_review = pd.read_csv('Datos/df_user_reviews.csv', encoding='utf-8')\n",
    "df_review.head()"
   ]
  },
  {
   "cell_type": "markdown",
   "metadata": {},
   "source": [
    "Se calcula la cantidad de registros"
   ]
  },
  {
   "cell_type": "code",
   "execution_count": null,
   "metadata": {},
   "outputs": [
    {
     "name": "stdout",
     "output_type": "stream",
     "text": [
      "La cantidad de registros que hay son: 57367\n",
      "         nombre_campo tipo_datos  no_nulos_%  nulos_%  nulos\n",
      "0             user_id     object       100.0      0.0      0\n",
      "1            user_url     object       100.0      0.0      0\n",
      "2     reviews_item_id      int64       100.0      0.0      0\n",
      "3     reviews_helpful     object       100.0      0.0      0\n",
      "4   reviews_recommend       bool       100.0      0.0      0\n",
      "5      reviews_review     object       100.0      0.0      0\n",
      "6        reviews_date     object       100.0      0.0      0\n",
      "7  sentiment_analysis      int64       100.0      0.0      0\n"
     ]
    }
   ],
   "source": [
    "print(f'La cantidad de registros que hay son: {df_review.shape[0]}')\n",
    "def obtener_informacion_columnas(df):\n",
    "    mi_dict = {\"nombre_campo\": [], \"tipo_datos\": [], \"no_nulos_%\": [], \"nulos_%\": [], \"nulos\": []}\n",
    "\n",
    "    for columna in df.columns:\n",
    "        porcentaje_no_nulos = (df[columna].count() / len(df)) * 100\n",
    "        mi_dict[\"nombre_campo\"].append(columna)\n",
    "        mi_dict[\"tipo_datos\"].append(df[columna].dtype)\n",
    "        mi_dict[\"no_nulos_%\"].append(round(porcentaje_no_nulos, 2))\n",
    "        mi_dict[\"nulos_%\"].append(round(100 - porcentaje_no_nulos, 2))\n",
    "        mi_dict[\"nulos\"].append(df[columna].isnull().sum())\n",
    "\n",
    "    df_info = pd.DataFrame(mi_dict)\n",
    "    return df_info\n",
    "informacion_columnas = obtener_informacion_columnas(df_review)\n",
    "print(informacion_columnas)"
   ]
  },
  {
   "cell_type": "markdown",
   "metadata": {},
   "source": [
    "Se tienen 58431 registros de opiniones de los usuarios respecto a los juegos que consumen."
   ]
  },
  {
   "cell_type": "markdown",
   "metadata": {},
   "source": [
    "COLUMNAS 'SENTIMENT_ANALYSIS' Y 'REVIEWS_RECOMMEND'"
   ]
  },
  {
   "cell_type": "markdown",
   "metadata": {},
   "source": [
    "Se exploran las columnas 'Sentiment_analysis' y 'Reviews_recommend'."
   ]
  },
  {
   "cell_type": "code",
   "execution_count": null,
   "metadata": {},
   "outputs": [
    {
     "data": {
      "text/html": [
       "<div>\n",
       "<style scoped>\n",
       "    .dataframe tbody tr th:only-of-type {\n",
       "        vertical-align: middle;\n",
       "    }\n",
       "\n",
       "    .dataframe tbody tr th {\n",
       "        vertical-align: top;\n",
       "    }\n",
       "\n",
       "    .dataframe thead th {\n",
       "        text-align: right;\n",
       "    }\n",
       "</style>\n",
       "<table border=\"1\" class=\"dataframe\">\n",
       "  <thead>\n",
       "    <tr style=\"text-align: right;\">\n",
       "      <th></th>\n",
       "      <th>Cantidad</th>\n",
       "      <th>Porcentaje</th>\n",
       "    </tr>\n",
       "    <tr>\n",
       "      <th>sentiment_analysis</th>\n",
       "      <th></th>\n",
       "      <th></th>\n",
       "    </tr>\n",
       "  </thead>\n",
       "  <tbody>\n",
       "    <tr>\n",
       "      <th>1</th>\n",
       "      <td>35241</td>\n",
       "      <td>61.43</td>\n",
       "    </tr>\n",
       "    <tr>\n",
       "      <th>2</th>\n",
       "      <td>17100</td>\n",
       "      <td>29.81</td>\n",
       "    </tr>\n",
       "    <tr>\n",
       "      <th>0</th>\n",
       "      <td>5026</td>\n",
       "      <td>8.76</td>\n",
       "    </tr>\n",
       "  </tbody>\n",
       "</table>\n",
       "</div>"
      ],
      "text/plain": [
       "                    Cantidad  Porcentaje\n",
       "sentiment_analysis                      \n",
       "1                      35241       61.43\n",
       "2                      17100       29.81\n",
       "0                       5026        8.76"
      ]
     },
     "execution_count": 6,
     "metadata": {},
     "output_type": "execute_result"
    }
   ],
   "source": [
    "def cant_porcentaje(df, columna):\n",
    "    # Cuanta la cantidad de True/False luego calcula el porcentaje\n",
    "    counts = df[columna].value_counts()\n",
    "    porcentages = round(100 * counts / len(df),2)\n",
    "    # Crea un dataframe con el resumen\n",
    "    df_results = pd.DataFrame({\n",
    "        \"Cantidad\": counts,\n",
    "        \"Porcentaje\": porcentages\n",
    "    })\n",
    "    return df_results\n",
    "cant_porcentaje(df_review, 'sentiment_analysis')"
   ]
  },
  {
   "cell_type": "code",
   "execution_count": null,
   "metadata": {},
   "outputs": [
    {
     "data": {
      "text/html": [
       "<div>\n",
       "<style scoped>\n",
       "    .dataframe tbody tr th:only-of-type {\n",
       "        vertical-align: middle;\n",
       "    }\n",
       "\n",
       "    .dataframe tbody tr th {\n",
       "        vertical-align: top;\n",
       "    }\n",
       "\n",
       "    .dataframe thead th {\n",
       "        text-align: right;\n",
       "    }\n",
       "</style>\n",
       "<table border=\"1\" class=\"dataframe\">\n",
       "  <thead>\n",
       "    <tr style=\"text-align: right;\">\n",
       "      <th></th>\n",
       "      <th>Cantidad</th>\n",
       "      <th>Porcentaje</th>\n",
       "    </tr>\n",
       "    <tr>\n",
       "      <th>reviews_recommend</th>\n",
       "      <th></th>\n",
       "      <th></th>\n",
       "    </tr>\n",
       "  </thead>\n",
       "  <tbody>\n",
       "    <tr>\n",
       "      <th>True</th>\n",
       "      <td>50751</td>\n",
       "      <td>88.47</td>\n",
       "    </tr>\n",
       "    <tr>\n",
       "      <th>False</th>\n",
       "      <td>6616</td>\n",
       "      <td>11.53</td>\n",
       "    </tr>\n",
       "  </tbody>\n",
       "</table>\n",
       "</div>"
      ],
      "text/plain": [
       "                   Cantidad  Porcentaje\n",
       "reviews_recommend                      \n",
       "True                  50751       88.47\n",
       "False                  6616       11.53"
      ]
     },
     "execution_count": 7,
     "metadata": {},
     "output_type": "execute_result"
    }
   ],
   "source": [
    "def cant_porcentaje(df, columna):\n",
    "    # Cuanta la cantidad de True/False luego calcula el porcentaje\n",
    "    counts = df[columna].value_counts()\n",
    "    porcentages = round(100 * counts / len(df),2)\n",
    "    # Crea un dataframe con el resumen\n",
    "    df_results = pd.DataFrame({\n",
    "        \"Cantidad\": counts,\n",
    "        \"Porcentaje\": porcentages\n",
    "    })\n",
    "    return df_results\n",
    "cant_porcentaje(df_review, 'reviews_recommend')"
   ]
  },
  {
   "cell_type": "markdown",
   "metadata": {},
   "source": [
    "De los registros de reviews casi el 62%  de los reviews reflejan sentimientos neutrales,  casi el 30% reflejan sentimientos positivos hacia el juego y menos del 9% fue negativo. Pero en el 88% de los reviews se recomiendan los juegos que consumen.\n",
    "\n",
    "En el siguiente código se busca ver la cantidad de recomendaciones para los distintos sentimientos de las reviews."
   ]
  },
  {
   "cell_type": "code",
   "execution_count": null,
   "metadata": {},
   "outputs": [
    {
     "data": {
      "text/html": [
       "<div>\n",
       "<style scoped>\n",
       "    .dataframe tbody tr th:only-of-type {\n",
       "        vertical-align: middle;\n",
       "    }\n",
       "\n",
       "    .dataframe tbody tr th {\n",
       "        vertical-align: top;\n",
       "    }\n",
       "\n",
       "    .dataframe thead th {\n",
       "        text-align: right;\n",
       "    }\n",
       "</style>\n",
       "<table border=\"1\" class=\"dataframe\">\n",
       "  <thead>\n",
       "    <tr style=\"text-align: right;\">\n",
       "      <th></th>\n",
       "      <th></th>\n",
       "      <th>Cantidad</th>\n",
       "      <th>Porcentaje</th>\n",
       "    </tr>\n",
       "    <tr>\n",
       "      <th>sentiment_analysis</th>\n",
       "      <th>reviews_recommend</th>\n",
       "      <th></th>\n",
       "      <th></th>\n",
       "    </tr>\n",
       "  </thead>\n",
       "  <tbody>\n",
       "    <tr>\n",
       "      <th rowspan=\"2\" valign=\"top\">0</th>\n",
       "      <th>False</th>\n",
       "      <td>1652</td>\n",
       "      <td>2.879704</td>\n",
       "    </tr>\n",
       "    <tr>\n",
       "      <th>True</th>\n",
       "      <td>3374</td>\n",
       "      <td>5.881430</td>\n",
       "    </tr>\n",
       "    <tr>\n",
       "      <th rowspan=\"2\" valign=\"top\">1</th>\n",
       "      <th>False</th>\n",
       "      <td>4367</td>\n",
       "      <td>7.612390</td>\n",
       "    </tr>\n",
       "    <tr>\n",
       "      <th>True</th>\n",
       "      <td>30874</td>\n",
       "      <td>53.818397</td>\n",
       "    </tr>\n",
       "    <tr>\n",
       "      <th rowspan=\"2\" valign=\"top\">2</th>\n",
       "      <th>False</th>\n",
       "      <td>597</td>\n",
       "      <td>1.040668</td>\n",
       "    </tr>\n",
       "    <tr>\n",
       "      <th>True</th>\n",
       "      <td>16503</td>\n",
       "      <td>28.767410</td>\n",
       "    </tr>\n",
       "  </tbody>\n",
       "</table>\n",
       "</div>"
      ],
      "text/plain": [
       "                                      Cantidad  Porcentaje\n",
       "sentiment_analysis reviews_recommend                      \n",
       "0                  False                  1652    2.879704\n",
       "                   True                   3374    5.881430\n",
       "1                  False                  4367    7.612390\n",
       "                   True                  30874   53.818397\n",
       "2                  False                   597    1.040668\n",
       "                   True                  16503   28.767410"
      ]
     },
     "execution_count": 8,
     "metadata": {},
     "output_type": "execute_result"
    }
   ],
   "source": [
    "# Se agrupa por 'sentiment_analysis' y 'reviews_recommend'\n",
    "df_agrupado = df_review.groupby(['sentiment_analysis', 'reviews_recommend'])\n",
    "# Se cuentan la cantidad de reviews en cada grupo\n",
    "cantidad_grupo = df_agrupado.size()\n",
    "# Se calcula el porcentaje por cada grupo\n",
    "porcentaje_grupo = 100 * df_agrupado.size() / len(df_review)\n",
    "# Se crea un datafram con el resumen\n",
    "sentimiento_recomendacion = pd.DataFrame({\n",
    "    \"Cantidad\": cantidad_grupo,\n",
    "    \"Porcentaje\": porcentaje_grupo\n",
    "})\n",
    "sentimiento_recomendacion"
   ]
  },
  {
   "cell_type": "markdown",
   "metadata": {},
   "source": [
    "Se puede ver que el porcentaje respecto del total de los reviews que casi el 54% de los reviews que reflejan un sentimiento neutral recomienda el juego por lo que un sentimiento neutral podría estar relacionado con un comentario sencillo sin muchos detalles pero que aún así el juego le gustó como para recomendar. Por otra parte, de los comentarios que reflejaron un sentimiento negativo cerca del 6% aún recomienda el juego, lo que es algo contradictorio."
   ]
  },
  {
   "cell_type": "code",
   "execution_count": null,
   "metadata": {},
   "outputs": [
    {
     "name": "stdout",
     "output_type": "stream",
     "text": [
      "Cantidad de usuarios únicos que opinaron: 25132\n"
     ]
    }
   ],
   "source": [
    "# Cantidad de usuarios que dieron su opinion\n",
    "print(f\"Cantidad de usuarios únicos que opinaron: {len(df_review['user_id'].unique())}\")"
   ]
  },
  {
   "cell_type": "markdown",
   "metadata": {},
   "source": [
    "Un total de 25143 usurarios dieron su opinión sobre el juego que consumen, con lo que un usuario hizo mas de un comentario."
   ]
  },
  {
   "cell_type": "markdown",
   "metadata": {},
   "source": [
    "Se revisan la cantidad de fechas con formato inválido o que no tenían fecha en el conjunto de datos original de la columna 'Reviews_date'."
   ]
  },
  {
   "cell_type": "code",
   "execution_count": null,
   "metadata": {},
   "outputs": [
    {
     "name": "stdout",
     "output_type": "stream",
     "text": [
      "La cantidad de fechas en formato inválido son: 9768\n"
     ]
    }
   ],
   "source": [
    "print(f'La cantidad de fechas en formato inválido son: {len(df_review[df_review[\"reviews_date\"]==\"Formato inválido\"])}')"
   ]
  },
  {
   "cell_type": "markdown",
   "metadata": {},
   "source": [
    "Hay 9768 registros que no contienen la fecha del review.\n",
    "\n",
    "En el siguiente gráfico se puede ver la distribución de la cantidad de reviews por día, sin tener en cuenta los que no tenía la fecha."
   ]
  },
  {
   "cell_type": "code",
   "execution_count": null,
   "metadata": {},
   "outputs": [
    {
     "data": {
      "image/png": "[encoded data removed]",
      "text/plain": [
       "<Figure size 1400x400 with 1 Axes>"
      ]
     },
     "metadata": {},
     "output_type": "display_data"
    }
   ],
   "source": [
    "# Se hace un dataframe auxiliar para analizar solo las fechas (hay campos con 'Datos no disponibles')\n",
    "df = df_review[df_review[\"reviews_date\"].str.match(r\"^\\d{4}-\\d{2}-\\d{2}$\")]\n",
    "# Convierte a formato fecha\n",
    "df[\"reviews_date\"] = pd.to_datetime(df[\"reviews_date\"])\n",
    "# Calcula la cantidad de review por fecha\n",
    "df_counts = df.groupby(\"reviews_date\").count()\n",
    "\n",
    "# Grafica\n",
    "plt.figure(figsize=(14, 4))\n",
    "sns.lineplot(data=df_counts, x=\"reviews_date\", y=\"reviews_recommend\")\n",
    "plt.ylabel('Cantidad de reviews')\n",
    "plt.show()"
   ]
  },
  {
   "cell_type": "code",
   "execution_count": null,
   "metadata": {},
   "outputs": [
    {
     "name": "stdout",
     "output_type": "stream",
     "text": [
      "Días de cantidad pico de reviews\n"
     ]
    },
    {
     "data": {
      "text/plain": [
       "reviews_date\n",
       "2014-06-21    218\n",
       "2014-06-20    187\n",
       "2014-06-23    170\n",
       "2014-06-27    167\n",
       "2013-12-26    164\n",
       "Name: reviews_recommend, dtype: int64"
      ]
     },
     "execution_count": 12,
     "metadata": {},
     "output_type": "execute_result"
    }
   ],
   "source": [
    "print('Días de cantidad pico de reviews')\n",
    "df_counts.sort_values(by='reviews_recommend', ascending=False)['reviews_recommend'][:5]"
   ]
  },
  {
   "cell_type": "markdown",
   "metadata": {},
   "source": [
    "Se observa que hasta cerca del 2014 la cantidad de reviews por día es bajo, con algunos picos puntuales y luego aumenta considerablemente la cantidad de comentarios con un pico máximo el 21-06-2014 con 218 comentarios en un solo día."
   ]
  },
  {
   "cell_type": "markdown",
   "metadata": {},
   "source": [
    "EDA del dataset  `df_steam_games`"
   ]
  },
  {
   "cell_type": "markdown",
   "metadata": {},
   "source": [
    "En esta sección se desarrolla el Análisis Exploratorio de los Datos del archivo `df_steam_games` que ya pasó por el proceso de ETL."
   ]
  },
  {
   "cell_type": "markdown",
   "metadata": {},
   "source": [
    "Se leen los datos de .csv y se guarda en un dataframe."
   ]
  },
  {
   "cell_type": "code",
   "execution_count": null,
   "metadata": {},
   "outputs": [
    {
     "data": {
      "text/html": [
       "<div>\n",
       "<style scoped>\n",
       "    .dataframe tbody tr th:only-of-type {\n",
       "        vertical-align: middle;\n",
       "    }\n",
       "\n",
       "    .dataframe tbody tr th {\n",
       "        vertical-align: top;\n",
       "    }\n",
       "\n",
       "    .dataframe thead th {\n",
       "        text-align: right;\n",
       "    }\n",
       "</style>\n",
       "<table border=\"1\" class=\"dataframe\">\n",
       "  <thead>\n",
       "    <tr style=\"text-align: right;\">\n",
       "      <th></th>\n",
       "      <th>genres</th>\n",
       "      <th>release_date</th>\n",
       "      <th>price</th>\n",
       "      <th>early_access</th>\n",
       "      <th>id</th>\n",
       "      <th>publisher</th>\n",
       "      <th>app_name</th>\n",
       "      <th>title</th>\n",
       "      <th>developer</th>\n",
       "    </tr>\n",
       "  </thead>\n",
       "  <tbody>\n",
       "    <tr>\n",
       "      <th>0</th>\n",
       "      <td>Action</td>\n",
       "      <td>2018</td>\n",
       "      <td>4.99</td>\n",
       "      <td>False</td>\n",
       "      <td>761140</td>\n",
       "      <td>Kotoshiro</td>\n",
       "      <td>Lost Summoner Kitty</td>\n",
       "      <td>Lost Summoner Kitty</td>\n",
       "      <td>Kotoshiro</td>\n",
       "    </tr>\n",
       "    <tr>\n",
       "      <th>1</th>\n",
       "      <td>Casual</td>\n",
       "      <td>2018</td>\n",
       "      <td>4.99</td>\n",
       "      <td>False</td>\n",
       "      <td>761140</td>\n",
       "      <td>Kotoshiro</td>\n",
       "      <td>Lost Summoner Kitty</td>\n",
       "      <td>Lost Summoner Kitty</td>\n",
       "      <td>Kotoshiro</td>\n",
       "    </tr>\n",
       "    <tr>\n",
       "      <th>2</th>\n",
       "      <td>Indie</td>\n",
       "      <td>2018</td>\n",
       "      <td>4.99</td>\n",
       "      <td>False</td>\n",
       "      <td>761140</td>\n",
       "      <td>Kotoshiro</td>\n",
       "      <td>Lost Summoner Kitty</td>\n",
       "      <td>Lost Summoner Kitty</td>\n",
       "      <td>Kotoshiro</td>\n",
       "    </tr>\n",
       "    <tr>\n",
       "      <th>3</th>\n",
       "      <td>Simulation</td>\n",
       "      <td>2018</td>\n",
       "      <td>4.99</td>\n",
       "      <td>False</td>\n",
       "      <td>761140</td>\n",
       "      <td>Kotoshiro</td>\n",
       "      <td>Lost Summoner Kitty</td>\n",
       "      <td>Lost Summoner Kitty</td>\n",
       "      <td>Kotoshiro</td>\n",
       "    </tr>\n",
       "    <tr>\n",
       "      <th>4</th>\n",
       "      <td>Strategy</td>\n",
       "      <td>2018</td>\n",
       "      <td>4.99</td>\n",
       "      <td>False</td>\n",
       "      <td>761140</td>\n",
       "      <td>Kotoshiro</td>\n",
       "      <td>Lost Summoner Kitty</td>\n",
       "      <td>Lost Summoner Kitty</td>\n",
       "      <td>Kotoshiro</td>\n",
       "    </tr>\n",
       "  </tbody>\n",
       "</table>\n",
       "</div>"
      ],
      "text/plain": [
       "       genres release_date  price  early_access      id  publisher  \\\n",
       "0      Action         2018   4.99         False  761140  Kotoshiro   \n",
       "1      Casual         2018   4.99         False  761140  Kotoshiro   \n",
       "2       Indie         2018   4.99         False  761140  Kotoshiro   \n",
       "3  Simulation         2018   4.99         False  761140  Kotoshiro   \n",
       "4    Strategy         2018   4.99         False  761140  Kotoshiro   \n",
       "\n",
       "              app_name                title  developer  \n",
       "0  Lost Summoner Kitty  Lost Summoner Kitty  Kotoshiro  \n",
       "1  Lost Summoner Kitty  Lost Summoner Kitty  Kotoshiro  \n",
       "2  Lost Summoner Kitty  Lost Summoner Kitty  Kotoshiro  \n",
       "3  Lost Summoner Kitty  Lost Summoner Kitty  Kotoshiro  \n",
       "4  Lost Summoner Kitty  Lost Summoner Kitty  Kotoshiro  "
      ]
     },
     "execution_count": 13,
     "metadata": {},
     "output_type": "execute_result"
    }
   ],
   "source": [
    "df_games = pd.read_csv('Datos/df_steam_games.csv', encoding='utf-8')\n",
    "df_games.head()"
   ]
  },
  {
   "cell_type": "markdown",
   "metadata": {},
   "source": [
    "Se revisan los tipos de datos y cantidad de nulos si hay."
   ]
  },
  {
   "cell_type": "code",
   "execution_count": null,
   "metadata": {},
   "outputs": [
    {
     "name": "stdout",
     "output_type": "stream",
     "text": [
      "La cantidad de registros que hay son: 71551\n",
      "   nombre_campo tipo_datos  no_nulos_%  nulos_%  nulos\n",
      "0        genres     object      100.00     0.00      0\n",
      "1  release_date     object      100.00     0.00      0\n",
      "2         price    float64      100.00     0.00      0\n",
      "3  early_access       bool      100.00     0.00      0\n",
      "4            id      int64      100.00     0.00      0\n",
      "5     publisher     object       99.93     0.07     47\n",
      "6      app_name     object      100.00     0.00      0\n",
      "7         title     object      100.00     0.00      0\n",
      "8     developer     object      100.00     0.00      0\n"
     ]
    }
   ],
   "source": [
    "print(f'La cantidad de registros que hay son: {df_games.shape[0]}')\n",
    "def obtener_informacion_columnas(df):\n",
    "    mi_dict = {\"nombre_campo\": [], \"tipo_datos\": [], \"no_nulos_%\": [], \"nulos_%\": [], \"nulos\": []}\n",
    "\n",
    "    for columna in df.columns:\n",
    "        porcentaje_no_nulos = (df[columna].count() / len(df)) * 100\n",
    "        mi_dict[\"nombre_campo\"].append(columna)\n",
    "        mi_dict[\"tipo_datos\"].append(df[columna].dtype)\n",
    "        mi_dict[\"no_nulos_%\"].append(round(porcentaje_no_nulos, 2))\n",
    "        mi_dict[\"nulos_%\"].append(round(100 - porcentaje_no_nulos, 2))\n",
    "        mi_dict[\"nulos\"].append(df[columna].isnull().sum())\n",
    "\n",
    "    df_info = pd.DataFrame(mi_dict)\n",
    "    return df_info\n",
    "informacion_columnas = obtener_informacion_columnas(df_games)\n",
    "print(informacion_columnas)"
   ]
  },
  {
   "cell_type": "markdown",
   "metadata": {},
   "source": [
    "Este conjunto de datos tiene 9 columnas y 71551 registros.  La información se repite porque un juego puede pertenecer a mas de un género."
   ]
  },
  {
   "cell_type": "markdown",
   "metadata": {},
   "source": [
    "Las columnas 'Id', 'App_name' y 'Title' hacen referencia al identificador único del juego y los nombres de la aplicación y del título del juego. Estos últimos no tienen mayor información que analizar en este momento. Con el 'id' se puede calcular la cantidad de juegos."
   ]
  },
  {
   "cell_type": "code",
   "execution_count": null,
   "metadata": {},
   "outputs": [
    {
     "name": "stdout",
     "output_type": "stream",
     "text": [
      "El total de juegos que hay registrados son: 28850\n"
     ]
    }
   ],
   "source": [
    "total_juegos = len(df_games['id'].unique())\n",
    "print(f\"El total de juegos que hay registrados son: {total_juegos}\")"
   ]
  },
  {
   "cell_type": "markdown",
   "metadata": {},
   "source": [
    "Columna 'Genres'"
   ]
  },
  {
   "cell_type": "code",
   "execution_count": null,
   "metadata": {},
   "outputs": [
    {
     "data": {
      "image/png": "[encoded data removed]",
      "text/plain": [
       "<Figure size 600x400 with 1 Axes>"
      ]
     },
     "metadata": {},
     "output_type": "display_data"
    }
   ],
   "source": [
    "plt.figure(figsize=(6, 4))\n",
    "sns.countplot(data=df_games, y='genres', orient='h')\n",
    "plt.show()"
   ]
  },
  {
   "cell_type": "code",
   "execution_count": null,
   "metadata": {},
   "outputs": [
    {
     "data": {
      "text/html": [
       "<div>\n",
       "<style scoped>\n",
       "    .dataframe tbody tr th:only-of-type {\n",
       "        vertical-align: middle;\n",
       "    }\n",
       "\n",
       "    .dataframe tbody tr th {\n",
       "        vertical-align: top;\n",
       "    }\n",
       "\n",
       "    .dataframe thead th {\n",
       "        text-align: right;\n",
       "    }\n",
       "</style>\n",
       "<table border=\"1\" class=\"dataframe\">\n",
       "  <thead>\n",
       "    <tr style=\"text-align: right;\">\n",
       "      <th></th>\n",
       "      <th>Cantidad</th>\n",
       "      <th>Porcentaje</th>\n",
       "    </tr>\n",
       "    <tr>\n",
       "      <th>genres</th>\n",
       "      <th></th>\n",
       "      <th></th>\n",
       "    </tr>\n",
       "  </thead>\n",
       "  <tbody>\n",
       "    <tr>\n",
       "      <th>Indie</th>\n",
       "      <td>15858</td>\n",
       "      <td>22.16</td>\n",
       "    </tr>\n",
       "    <tr>\n",
       "      <th>Action</th>\n",
       "      <td>11319</td>\n",
       "      <td>15.82</td>\n",
       "    </tr>\n",
       "    <tr>\n",
       "      <th>Casual</th>\n",
       "      <td>8282</td>\n",
       "      <td>11.57</td>\n",
       "    </tr>\n",
       "    <tr>\n",
       "      <th>Adventure</th>\n",
       "      <td>8242</td>\n",
       "      <td>11.52</td>\n",
       "    </tr>\n",
       "    <tr>\n",
       "      <th>Strategy</th>\n",
       "      <td>6957</td>\n",
       "      <td>9.72</td>\n",
       "    </tr>\n",
       "    <tr>\n",
       "      <th>Simulation</th>\n",
       "      <td>6699</td>\n",
       "      <td>9.36</td>\n",
       "    </tr>\n",
       "    <tr>\n",
       "      <th>RPG</th>\n",
       "      <td>5479</td>\n",
       "      <td>7.66</td>\n",
       "    </tr>\n",
       "    <tr>\n",
       "      <th>Free to Play</th>\n",
       "      <td>2031</td>\n",
       "      <td>2.84</td>\n",
       "    </tr>\n",
       "    <tr>\n",
       "      <th>Early Access</th>\n",
       "      <td>1462</td>\n",
       "      <td>2.04</td>\n",
       "    </tr>\n",
       "    <tr>\n",
       "      <th>Sports</th>\n",
       "      <td>1257</td>\n",
       "      <td>1.76</td>\n",
       "    </tr>\n",
       "    <tr>\n",
       "      <th>Massively Multiplayer</th>\n",
       "      <td>1108</td>\n",
       "      <td>1.55</td>\n",
       "    </tr>\n",
       "    <tr>\n",
       "      <th>Racing</th>\n",
       "      <td>1083</td>\n",
       "      <td>1.51</td>\n",
       "    </tr>\n",
       "    <tr>\n",
       "      <th>Design &amp;amp; Illustration</th>\n",
       "      <td>460</td>\n",
       "      <td>0.64</td>\n",
       "    </tr>\n",
       "    <tr>\n",
       "      <th>Utilities</th>\n",
       "      <td>340</td>\n",
       "      <td>0.48</td>\n",
       "    </tr>\n",
       "    <tr>\n",
       "      <th>Web Publishing</th>\n",
       "      <td>268</td>\n",
       "      <td>0.37</td>\n",
       "    </tr>\n",
       "    <tr>\n",
       "      <th>Animation &amp;amp; Modeling</th>\n",
       "      <td>183</td>\n",
       "      <td>0.26</td>\n",
       "    </tr>\n",
       "    <tr>\n",
       "      <th>Education</th>\n",
       "      <td>125</td>\n",
       "      <td>0.17</td>\n",
       "    </tr>\n",
       "    <tr>\n",
       "      <th>Video Production</th>\n",
       "      <td>116</td>\n",
       "      <td>0.16</td>\n",
       "    </tr>\n",
       "    <tr>\n",
       "      <th>Software Training</th>\n",
       "      <td>105</td>\n",
       "      <td>0.15</td>\n",
       "    </tr>\n",
       "    <tr>\n",
       "      <th>Audio Production</th>\n",
       "      <td>93</td>\n",
       "      <td>0.13</td>\n",
       "    </tr>\n",
       "    <tr>\n",
       "      <th>Photo Editing</th>\n",
       "      <td>77</td>\n",
       "      <td>0.11</td>\n",
       "    </tr>\n",
       "    <tr>\n",
       "      <th>Accounting</th>\n",
       "      <td>7</td>\n",
       "      <td>0.01</td>\n",
       "    </tr>\n",
       "  </tbody>\n",
       "</table>\n",
       "</div>"
      ],
      "text/plain": [
       "                           Cantidad  Porcentaje\n",
       "genres                                         \n",
       "Indie                         15858       22.16\n",
       "Action                        11319       15.82\n",
       "Casual                         8282       11.57\n",
       "Adventure                      8242       11.52\n",
       "Strategy                       6957        9.72\n",
       "Simulation                     6699        9.36\n",
       "RPG                            5479        7.66\n",
       "Free to Play                   2031        2.84\n",
       "Early Access                   1462        2.04\n",
       "Sports                         1257        1.76\n",
       "Massively Multiplayer          1108        1.55\n",
       "Racing                         1083        1.51\n",
       "Design &amp; Illustration       460        0.64\n",
       "Utilities                       340        0.48\n",
       "Web Publishing                  268        0.37\n",
       "Animation &amp; Modeling        183        0.26\n",
       "Education                       125        0.17\n",
       "Video Production                116        0.16\n",
       "Software Training               105        0.15\n",
       "Audio Production                 93        0.13\n",
       "Photo Editing                    77        0.11\n",
       "Accounting                        7        0.01"
      ]
     },
     "execution_count": 17,
     "metadata": {},
     "output_type": "execute_result"
    }
   ],
   "source": [
    "def cant_porcentaje(df, columna):\n",
    "    # Cuenta la cantidad de True/False luego calcula el porcentaje\n",
    "    counts = df[columna].value_counts()\n",
    "    percentages = round(100 * counts / len(df),2)\n",
    "    # Crea un dataframe con el resumen\n",
    "    df_results = pd.DataFrame({\n",
    "        \"Cantidad\": counts,\n",
    "        \"Porcentaje\": percentages\n",
    "    })\n",
    "    return df_results\n",
    "\n",
    "\n",
    "cant_porcentaje(df_games, 'genres')"
   ]
  },
  {
   "cell_type": "markdown",
   "metadata": {},
   "source": [
    "Los juegos estan categorizados mayormente en las categorías *Indi*, *Action*, *Casual* y *Adventure*."
   ]
  },
  {
   "cell_type": "markdown",
   "metadata": {},
   "source": [
    "Columna 'Release_date'"
   ]
  },
  {
   "cell_type": "code",
   "execution_count": null,
   "metadata": {},
   "outputs": [
    {
     "data": {
      "text/html": [
       "<div>\n",
       "<style scoped>\n",
       "    .dataframe tbody tr th:only-of-type {\n",
       "        vertical-align: middle;\n",
       "    }\n",
       "\n",
       "    .dataframe tbody tr th {\n",
       "        vertical-align: top;\n",
       "    }\n",
       "\n",
       "    .dataframe thead th {\n",
       "        text-align: right;\n",
       "    }\n",
       "</style>\n",
       "<table border=\"1\" class=\"dataframe\">\n",
       "  <thead>\n",
       "    <tr style=\"text-align: right;\">\n",
       "      <th></th>\n",
       "      <th>Cantidad</th>\n",
       "      <th>Porcentaje</th>\n",
       "    </tr>\n",
       "    <tr>\n",
       "      <th>release_date</th>\n",
       "      <th></th>\n",
       "      <th></th>\n",
       "    </tr>\n",
       "  </thead>\n",
       "  <tbody>\n",
       "    <tr>\n",
       "      <th>2017</th>\n",
       "      <td>25199</td>\n",
       "      <td>35.22</td>\n",
       "    </tr>\n",
       "    <tr>\n",
       "      <th>2016</th>\n",
       "      <td>17693</td>\n",
       "      <td>24.73</td>\n",
       "    </tr>\n",
       "    <tr>\n",
       "      <th>2015</th>\n",
       "      <td>12272</td>\n",
       "      <td>17.15</td>\n",
       "    </tr>\n",
       "    <tr>\n",
       "      <th>2014</th>\n",
       "      <td>6367</td>\n",
       "      <td>8.90</td>\n",
       "    </tr>\n",
       "    <tr>\n",
       "      <th>2013</th>\n",
       "      <td>3017</td>\n",
       "      <td>4.22</td>\n",
       "    </tr>\n",
       "    <tr>\n",
       "      <th>2012</th>\n",
       "      <td>2107</td>\n",
       "      <td>2.94</td>\n",
       "    </tr>\n",
       "    <tr>\n",
       "      <th>2011</th>\n",
       "      <td>987</td>\n",
       "      <td>1.38</td>\n",
       "    </tr>\n",
       "    <tr>\n",
       "      <th>2010</th>\n",
       "      <td>663</td>\n",
       "      <td>0.93</td>\n",
       "    </tr>\n",
       "    <tr>\n",
       "      <th>2018</th>\n",
       "      <td>499</td>\n",
       "      <td>0.70</td>\n",
       "    </tr>\n",
       "    <tr>\n",
       "      <th>2009</th>\n",
       "      <td>492</td>\n",
       "      <td>0.69</td>\n",
       "    </tr>\n",
       "  </tbody>\n",
       "</table>\n",
       "</div>"
      ],
      "text/plain": [
       "              Cantidad  Porcentaje\n",
       "release_date                      \n",
       "2017             25199       35.22\n",
       "2016             17693       24.73\n",
       "2015             12272       17.15\n",
       "2014              6367        8.90\n",
       "2013              3017        4.22\n",
       "2012              2107        2.94\n",
       "2011               987        1.38\n",
       "2010               663        0.93\n",
       "2018               499        0.70\n",
       "2009               492        0.69"
      ]
     },
     "execution_count": 18,
     "metadata": {},
     "output_type": "execute_result"
    }
   ],
   "source": [
    "def cant_porcentaje(df, columna):\n",
    "    # Cuenta la cantidad de True/False luego calcula el porcentaje\n",
    "    counts = df[columna].value_counts()\n",
    "    percentages = round(100 * counts / len(df),2)\n",
    "    # Crea un dataframe con el resumen\n",
    "    df_results = pd.DataFrame({\n",
    "        \"Cantidad\": counts,\n",
    "        \"Porcentaje\": percentages\n",
    "    })\n",
    "    return df_results\n",
    "\n",
    "cant_porcentaje(df_games, 'release_date')[:10]"
   ]
  },
  {
   "cell_type": "code",
   "execution_count": null,
   "metadata": {},
   "outputs": [
    {
     "data": {
      "image/png": "[encoded data removed]",
      "text/plain": [
       "<Figure size 1400x500 with 1 Axes>"
      ]
     },
     "metadata": {},
     "output_type": "display_data"
    }
   ],
   "source": [
    "# Cuenta la frecuencia de cada año\n",
    "conteo_date = df_games['release_date'].value_counts()\n",
    "\n",
    "# Ordena los valores para que 'Datos no disponibles' queden al principio o al final\n",
    "conteo_date = conteo_date.reindex(['Dato no disponible'] + list(conteo_date.index))\n",
    "# Ordena los valores por año\n",
    "conteo_date = conteo_date.sort_index()\n",
    "\n",
    "# Crear la gráfica de barras\n",
    "plt.figure(figsize=(14, 5))\n",
    "sns.barplot(x=conteo_date.index, y=conteo_date.values)\n",
    "plt.xlabel('Año de Lanzamiento') ; plt.ylabel('Cantidad de Registros') ; plt.title('Cantidad de Registros por Año de Lanzamiento')\n",
    "plt.xticks(rotation=45, ha='right')\n",
    "plt.tight_layout()\n",
    "plt.show()"
   ]
  },
  {
   "cell_type": "code",
   "execution_count": null,
   "metadata": {},
   "outputs": [
    {
     "name": "stdout",
     "output_type": "stream",
     "text": [
      "Cantidad de registros antes de 2002: 679\n"
     ]
    }
   ],
   "source": [
    "# Filtra los registros con valores numéricos en la columna 'release_date'\n",
    "registros_numericos = df_games[df_games['release_date'].str.isnumeric()]\n",
    "# Convierte la columna 'release_date' a valores enteros\n",
    "registros_numericos['release_date'] = registros_numericos['release_date'].astype(int)\n",
    "# Filtra los registros con años de lanzamiento antes de 2002\n",
    "registros_antes_2002 = registros_numericos[registros_numericos['release_date'] < 2002]\n",
    "\n",
    "print(f\"Cantidad de registros antes de 2002: {len(registros_antes_2002)}\")"
   ]
  },
  {
   "cell_type": "markdown",
   "metadata": {},
   "source": [
    "Se pueden ver 679 juegos lanzados en años anteriores al 2002 lo que puede ser un error porque la plataforma se lanzó en el 2003. Luego se ve el crecimiento constante y lento hasta 2012 y luego crece mas rápidamente hasta 2017. A partir de allí, la plataforma limitó la forma de obtener las estadísticas, por eso se ven muchos menos registros."
   ]
  },
  {
   "cell_type": "markdown",
   "metadata": {},
   "source": [
    "Columnas 'Publisher' y 'Developer'"
   ]
  },
  {
   "cell_type": "code",
   "execution_count": null,
   "metadata": {},
   "outputs": [
    {
     "data": {
      "image/png": "[encoded data removed]",
      "text/plain": [
       "<Figure size 1200x500 with 2 Axes>"
      ]
     },
     "metadata": {},
     "output_type": "display_data"
    }
   ],
   "source": [
    "# Contar la cantidad de juegos por publisher\n",
    "conteo_publisher = df_games['publisher'].value_counts()\n",
    "\n",
    "# Contar la cantidad de juegos por developer\n",
    "conteo_developer = df_games['developer'].value_counts()\n",
    "\n",
    "# Crear una figura con dos subplots uno al lado del otro\n",
    "plt.figure(figsize=(12, 5))\n",
    "\n",
    "# Primer subplot para los publishers\n",
    "plt.subplot(1, 2, 1)\n",
    "conteo_publisher[:10].plot(kind='bar', color='blue')\n",
    "plt.xlabel('Publisher') ; plt.ylabel('Cantidad de Juegos') ; plt.title('Top 10 Publishers')\n",
    "\n",
    "# Segundo subplot para los developers\n",
    "plt.subplot(1, 2, 2)\n",
    "conteo_developer[:10].plot(kind='bar', color='red')\n",
    "plt.xlabel('Developer') ; plt.ylabel('Cantidad de Juegos') ; plt.title('Top 10 Developers')\n",
    "\n",
    "# Muestra y ajustar el espaciado entre subplots\n",
    "plt.tight_layout()\n",
    "plt.show()"
   ]
  },
  {
   "cell_type": "markdown",
   "metadata": {},
   "source": [
    "En el caso de los publicista de juegos, la mayor cantidad no dispone del dato y en el caso de los desarrolladores, Ubisoft y SmiteWorks son los desarrolladores que mas juegos han desarrollado para la plataforma."
   ]
  },
  {
   "cell_type": "markdown",
   "metadata": {},
   "source": [
    "Columna 'Price'"
   ]
  },
  {
   "cell_type": "markdown",
   "metadata": {},
   "source": [
    "EDA del dataset  `users_items`"
   ]
  },
  {
   "cell_type": "markdown",
   "metadata": {},
   "source": [
    "En esta sección se desarrolla el Análisis Exploratorio de los Datos del archivo `df_users_items`  que ya pasó por el proceso de ETL."
   ]
  },
  {
   "cell_type": "markdown",
   "metadata": {},
   "source": [
    "Se leen los datos de .csv y se guarda en un dataframe."
   ]
  },
  {
   "cell_type": "code",
   "execution_count": null,
   "metadata": {},
   "outputs": [
    {
     "data": {
      "text/html": [
       "<div>\n",
       "<style scoped>\n",
       "    .dataframe tbody tr th:only-of-type {\n",
       "        vertical-align: middle;\n",
       "    }\n",
       "\n",
       "    .dataframe tbody tr th {\n",
       "        vertical-align: top;\n",
       "    }\n",
       "\n",
       "    .dataframe thead th {\n",
       "        text-align: right;\n",
       "    }\n",
       "</style>\n",
       "<table border=\"1\" class=\"dataframe\">\n",
       "  <thead>\n",
       "    <tr style=\"text-align: right;\">\n",
       "      <th></th>\n",
       "      <th>item_id</th>\n",
       "      <th>item_name</th>\n",
       "      <th>playtime_forever</th>\n",
       "      <th>steam_id</th>\n",
       "      <th>items_count</th>\n",
       "      <th>user_id</th>\n",
       "      <th>user_url</th>\n",
       "    </tr>\n",
       "  </thead>\n",
       "  <tbody>\n",
       "    <tr>\n",
       "      <th>0</th>\n",
       "      <td>10</td>\n",
       "      <td>Counter-Strike</td>\n",
       "      <td>6</td>\n",
       "      <td>76561197970982479</td>\n",
       "      <td>277</td>\n",
       "      <td>76561197970982479</td>\n",
       "      <td>http://steamcommunity.com/profiles/76561197970...</td>\n",
       "    </tr>\n",
       "    <tr>\n",
       "      <th>1</th>\n",
       "      <td>20</td>\n",
       "      <td>Team Fortress Classic</td>\n",
       "      <td>0</td>\n",
       "      <td>76561197970982479</td>\n",
       "      <td>277</td>\n",
       "      <td>76561197970982479</td>\n",
       "      <td>http://steamcommunity.com/profiles/76561197970...</td>\n",
       "    </tr>\n",
       "    <tr>\n",
       "      <th>2</th>\n",
       "      <td>30</td>\n",
       "      <td>Day of Defeat</td>\n",
       "      <td>7</td>\n",
       "      <td>76561197970982479</td>\n",
       "      <td>277</td>\n",
       "      <td>76561197970982479</td>\n",
       "      <td>http://steamcommunity.com/profiles/76561197970...</td>\n",
       "    </tr>\n",
       "    <tr>\n",
       "      <th>3</th>\n",
       "      <td>40</td>\n",
       "      <td>Deathmatch Classic</td>\n",
       "      <td>0</td>\n",
       "      <td>76561197970982479</td>\n",
       "      <td>277</td>\n",
       "      <td>76561197970982479</td>\n",
       "      <td>http://steamcommunity.com/profiles/76561197970...</td>\n",
       "    </tr>\n",
       "    <tr>\n",
       "      <th>4</th>\n",
       "      <td>50</td>\n",
       "      <td>Half-Life: Opposing Force</td>\n",
       "      <td>0</td>\n",
       "      <td>76561197970982479</td>\n",
       "      <td>277</td>\n",
       "      <td>76561197970982479</td>\n",
       "      <td>http://steamcommunity.com/profiles/76561197970...</td>\n",
       "    </tr>\n",
       "  </tbody>\n",
       "</table>\n",
       "</div>"
      ],
      "text/plain": [
       "   item_id                  item_name  playtime_forever           steam_id  \\\n",
       "0       10             Counter-Strike                 6  76561197970982479   \n",
       "1       20      Team Fortress Classic                 0  76561197970982479   \n",
       "2       30              Day of Defeat                 7  76561197970982479   \n",
       "3       40         Deathmatch Classic                 0  76561197970982479   \n",
       "4       50  Half-Life: Opposing Force                 0  76561197970982479   \n",
       "\n",
       "   items_count            user_id  \\\n",
       "0          277  76561197970982479   \n",
       "1          277  76561197970982479   \n",
       "2          277  76561197970982479   \n",
       "3          277  76561197970982479   \n",
       "4          277  76561197970982479   \n",
       "\n",
       "                                            user_url  \n",
       "0  http://steamcommunity.com/profiles/76561197970...  \n",
       "1  http://steamcommunity.com/profiles/76561197970...  \n",
       "2  http://steamcommunity.com/profiles/76561197970...  \n",
       "3  http://steamcommunity.com/profiles/76561197970...  \n",
       "4  http://steamcommunity.com/profiles/76561197970...  "
      ]
     },
     "execution_count": 22,
     "metadata": {},
     "output_type": "execute_result"
    }
   ],
   "source": [
    "df_items = pd.read_csv('Datos/df_user_items.csv', encoding='utf-8')\n",
    "df_items.head()"
   ]
  },
  {
   "cell_type": "markdown",
   "metadata": {},
   "source": [
    "Se revisan los tipos de datos y cantidad de nulos si hay."
   ]
  },
  {
   "cell_type": "code",
   "execution_count": null,
   "metadata": {},
   "outputs": [
    {
     "name": "stdout",
     "output_type": "stream",
     "text": [
      "La cantidad de registros que hay son: 5094092\n",
      "       nombre_campo tipo_datos  no_nulos_%  nulos_%  nulos\n",
      "0           item_id      int64       100.0      0.0      0\n",
      "1         item_name     object       100.0      0.0      0\n",
      "2  playtime_forever      int64       100.0      0.0      0\n",
      "3          steam_id      int64       100.0      0.0      0\n",
      "4       items_count      int64       100.0      0.0      0\n",
      "5           user_id     object       100.0      0.0      0\n",
      "6          user_url     object       100.0      0.0      0\n"
     ]
    }
   ],
   "source": [
    "print(f'La cantidad de registros que hay son: {df_items.shape[0]}')\n",
    "def obtener_informacion_columnas(df):\n",
    "    mi_dict = {\"nombre_campo\": [], \"tipo_datos\": [], \"no_nulos_%\": [], \"nulos_%\": [], \"nulos\": []}\n",
    "\n",
    "    for columna in df.columns:\n",
    "        porcentaje_no_nulos = (df[columna].count() / len(df)) * 100\n",
    "        mi_dict[\"nombre_campo\"].append(columna)\n",
    "        mi_dict[\"tipo_datos\"].append(df[columna].dtype)\n",
    "        mi_dict[\"no_nulos_%\"].append(round(porcentaje_no_nulos, 2))\n",
    "        mi_dict[\"nulos_%\"].append(round(100 - porcentaje_no_nulos, 2))\n",
    "        mi_dict[\"nulos\"].append(df[columna].isnull().sum())\n",
    "\n",
    "    df_info = pd.DataFrame(mi_dict)\n",
    "    return df_info\n",
    "informacion_columnas = obtener_informacion_columnas(df_items)\n",
    "print(informacion_columnas)"
   ]
  },
  {
   "cell_type": "markdown",
   "metadata": {},
   "source": [
    "Este conjunto de datos tiene 7 columnas y 5094092 registros. Contiene la información relacionada los usuarios y los juegos que consumen como el tiempo acumulado (en minutos) y cantidad de veces que han jugado a un juego, así como los identificadores de los juegos que consumen y del propio usuario."
   ]
  },
  {
   "cell_type": "markdown",
   "metadata": {},
   "source": [
    "Columna 'Playtime_forever'"
   ]
  },
  {
   "cell_type": "markdown",
   "metadata": {},
   "source": [
    "Estas columnas hacen referencia al tiempo en minutos acumulados que un usuario ha jugado."
   ]
  },
  {
   "cell_type": "code",
   "execution_count": null,
   "metadata": {},
   "outputs": [
    {
     "data": {
      "image/png": "[encoded data removed]",
      "text/plain": [
       "<Figure size 1400x400 with 2 Axes>"
      ]
     },
     "metadata": {},
     "output_type": "display_data"
    }
   ],
   "source": [
    "df_items['playtime_hours'] = df_items['playtime_forever'] / 60\n",
    "\n",
    "fig = plt.figure(figsize=(14, 4))\n",
    "\n",
    "ax1 = fig.add_subplot(211)\n",
    "sns.stripplot(data=df_items, x='playtime_hours', ax=ax1)\n",
    "ax1.set_xlabel('playtime_forever') ; ax1.set_ylabel('Cantidad de Juegos') ; ax1.set_title('Distribución de precios de los juegos')\n",
    "\n",
    "ax2 = fig.add_subplot(212, sharex=ax1)\n",
    "sns.boxplot(data=df_items, x='playtime_hours', ax=ax2)\n",
    "ax2.set_xlabel('playtime_forever (horas)') ; ax2.set_ylabel('Cantidad de Juegos')\n",
    "\n",
    "# Muestra y ajustar el espaciado entre subplots\n",
    "plt.tight_layout()\n",
    "plt.show()"
   ]
  },
  {
   "cell_type": "code",
   "execution_count": null,
   "metadata": {},
   "outputs": [
    {
     "name": "stdout",
     "output_type": "stream",
     "text": [
      "El precio medio (mediana) de los juegos es de: 0.57\n",
      "El precio promedio (mean) de los juegos es de: 16.51\n",
      "El 75% de los juegos tienen un precio menor de: 5.92\n",
      "El bigote superior de la variable playtime_hours se ubica en: 14.79\n",
      "Hay 763595 valores atípicos en la variable playtime_hours\n"
     ]
    }
   ],
   "source": [
    "estadisticas = df_items['playtime_hours'].describe()\n",
    "print(f'El precio medio (mediana) de los juegos es de: {round(estadisticas[5],2)}')\n",
    "print(f'El precio promedio (mean) de los juegos es de: {round(estadisticas[1],2)}')\n",
    "print(f'El 75% de los juegos tienen un precio menor de: {round(estadisticas[6],2)}')\n",
    "def bigote_sup(columna):\n",
    "    # Cuartiles\n",
    "    q1 = columna.describe()[4]\n",
    "    q3 = columna.describe()[6]\n",
    "\n",
    "    # Valor del vigote\n",
    "    bigote_sup = round(q3 + 1.5*(q3 - q1), 2)\n",
    "    print(f'El bigote superior de la variable {columna.name} se ubica en:', bigote_sup)\n",
    "\n",
    "    # Cantidad de atípicos\n",
    "    print(f'Hay {(columna > bigote_sup).sum()} valores atípicos en la variable {columna.name}')\n",
    "bigote_sup(df_items['playtime_hours'])"
   ]
  },
  {
   "cell_type": "markdown",
   "metadata": {},
   "source": [
    "Se puede observar que cada usuario, por juego, pasa un tiempo medio de 0.57 hs jugando y el 75% de los jugadores estuvieron menos de 6 hs jugando a un juego, pero se observa una gran cantidad de valores atípicos por encima de las 14.79 hs que juega cada usuario a un juego. Esto podría deberse al uso de bots que utilizan el mismo perfil de usuario para jugar en simultaneo, lo que generaría una distorsión de los tiempos reales de juego."
   ]
  },
  {
   "cell_type": "markdown",
   "metadata": {},
   "source": [
    "Columna 'Items_count'"
   ]
  },
  {
   "cell_type": "markdown",
   "metadata": {},
   "source": [
    "Esta columna indica la cantidad de juegos que consumen o compraron alguna vez los usuarios."
   ]
  },
  {
   "cell_type": "code",
   "execution_count": null,
   "metadata": {},
   "outputs": [
    {
     "data": {
      "image/png": "[encoded data removed]",
      "text/plain": [
       "<Figure size 1400x400 with 2 Axes>"
      ]
     },
     "metadata": {},
     "output_type": "display_data"
    }
   ],
   "source": [
    "# Agrupa por usuario la cantidad de items, lo conviente en data frame y los ordena de mayor a menor\n",
    "items_count_user = df_items.groupby('user_id')['items_count'].unique().explode()\n",
    "items_count_user = pd.DataFrame(items_count_user)\n",
    "items_count_user_o = items_count_user.sort_values('items_count', ascending=False)\n",
    "\n",
    "fig = plt.figure(figsize=(14, 4))\n",
    "\n",
    "ax1 = fig.add_subplot(211)\n",
    "sns.stripplot(data=items_count_user_o, x='items_count', ax=ax1)\n",
    "ax1.set_xlabel('items_count') ; ax1.set_title('Cantidad de items por usuarios')\n",
    "\n",
    "ax2 = fig.add_subplot(212, sharex=ax1)\n",
    "sns.boxplot(data=items_count_user_o, x='items_count', ax=ax2)\n",
    "ax2.set_xlabel('items_count')\n",
    "\n",
    "# Muestra y ajustar el espaciado entre subplots\n",
    "plt.tight_layout()\n",
    "plt.show()"
   ]
  },
  {
   "cell_type": "code",
   "execution_count": null,
   "metadata": {},
   "outputs": [
    {
     "name": "stdout",
     "output_type": "stream",
     "text": [
      "El precio medio (mediana) de los juegos es de: 40.0\n",
      "El precio promedio (mean) de los juegos es de: 71.84\n",
      "El 75% de los juegos tienen un precio menor de: 87.0\n",
      "El bigote superior de la variable items_count se ubica en: 196.5\n",
      "Hay 4957 valores atípicos en la variable items_count\n"
     ]
    }
   ],
   "source": [
    "estadisticas = items_count_user['items_count'].astype(float).describe()\n",
    "print(f'El precio medio (mediana) de los juegos es de: {round(estadisticas[5],2)}')\n",
    "print(f'El precio promedio (mean) de los juegos es de: {round(estadisticas[1],2)}')\n",
    "print(f'El 75% de los juegos tienen un precio menor de: {round(estadisticas[6],2)}')\n",
    "def bigote_sup(columna):\n",
    "    # Cuartiles\n",
    "    q1 = columna.describe()[4]\n",
    "    q3 = columna.describe()[6]\n",
    "\n",
    "    # Valor del vigote\n",
    "    bigote_sup = round(q3 + 1.5*(q3 - q1), 2)\n",
    "    print(f'El bigote superior de la variable {columna.name} se ubica en:', bigote_sup)\n",
    "\n",
    "    # Cantidad de atípicos\n",
    "    print(f'Hay {(columna > bigote_sup).sum()} valores atípicos en la variable {columna.name}')\n",
    "bigote_sup(items_count_user.astype(float)['items_count'])"
   ]
  },
  {
   "cell_type": "code",
   "execution_count": null,
   "metadata": {},
   "outputs": [
    {
     "data": {
      "text/plain": [
       "<Figure size 1400x500 with 0 Axes>"
      ]
     },
     "metadata": {},
     "output_type": "display_data"
    },
    {
     "data": {
      "image/png": "[encoded data removed]",
      "text/plain": [
       "<Figure size 640x480 with 1 Axes>"
      ]
     },
     "metadata": {},
     "output_type": "display_data"
    }
   ],
   "source": [
    "# Grafica cantidad de item por usuarios\n",
    "plt.figure(figsize=(14, 5))\n",
    "items_count_user[:20].plot(kind='bar')\n",
    "plt.xlabel('Usuario') ; plt.ylabel('Cantidad de Juegos') ; plt.title('Top 20 item_count por usuario')\n",
    "plt.show()"
   ]
  },
  {
   "cell_type": "markdown",
   "metadata": {},
   "source": [
    "Se puede ver que el usuario que mas cantidad de juegos a consumido ronda los 8000 juegos, pero el 75% de los usuarios ha adquirido menos de 87 items. Se pueden ver 4957 usuarios que hay adquirido mas de 196 items que podrían considerarse como atípicos."
   ]
  },
  {
   "cell_type": "markdown",
   "metadata": {},
   "source": [
    "## Para el modelo de recomendación se busca como resultado la recomendación un una lista de 5 juegos a partir de indicar el nombre de un juego o el id de un usuario, basado en un puntaje que se debe decidir cómo crearlo. Para ello, se revisan los dataframe df_reviews y df_items analizados anteriormente."
   ]
  },
  {
   "cell_type": "code",
   "execution_count": null,
   "metadata": {},
   "outputs": [],
   "source": [
    "df_reviews = pd.read_csv('Datos/df_user_reviews.csv', encoding='utf-8')\n",
    "df_items = pd.read_csv('Datos/df_user_items.csv', encoding='utf-8')"
   ]
  },
  {
   "cell_type": "code",
   "execution_count": null,
   "metadata": {},
   "outputs": [
    {
     "data": {
      "text/html": [
       "<div>\n",
       "<style scoped>\n",
       "    .dataframe tbody tr th:only-of-type {\n",
       "        vertical-align: middle;\n",
       "    }\n",
       "\n",
       "    .dataframe tbody tr th {\n",
       "        vertical-align: top;\n",
       "    }\n",
       "\n",
       "    .dataframe thead th {\n",
       "        text-align: right;\n",
       "    }\n",
       "</style>\n",
       "<table border=\"1\" class=\"dataframe\">\n",
       "  <thead>\n",
       "    <tr style=\"text-align: right;\">\n",
       "      <th></th>\n",
       "      <th>user_id</th>\n",
       "      <th>user_url</th>\n",
       "      <th>reviews_item_id</th>\n",
       "      <th>reviews_helpful</th>\n",
       "      <th>reviews_recommend</th>\n",
       "      <th>reviews_review</th>\n",
       "      <th>reviews_date</th>\n",
       "      <th>sentiment_analysis</th>\n",
       "    </tr>\n",
       "  </thead>\n",
       "  <tbody>\n",
       "    <tr>\n",
       "      <th>0</th>\n",
       "      <td>76561197970982479</td>\n",
       "      <td>http://steamcommunity.com/profiles/76561197970...</td>\n",
       "      <td>1250</td>\n",
       "      <td>No ratings yet</td>\n",
       "      <td>True</td>\n",
       "      <td>Simple yet with great replayability. In my opi...</td>\n",
       "      <td>2011-11-05</td>\n",
       "      <td>1</td>\n",
       "    </tr>\n",
       "    <tr>\n",
       "      <th>1</th>\n",
       "      <td>js41637</td>\n",
       "      <td>http://steamcommunity.com/id/js41637</td>\n",
       "      <td>251610</td>\n",
       "      <td>15 of 20 people (75%) found this review helpful</td>\n",
       "      <td>True</td>\n",
       "      <td>I know what you think when you see this title ...</td>\n",
       "      <td>2014-06-24</td>\n",
       "      <td>1</td>\n",
       "    </tr>\n",
       "  </tbody>\n",
       "</table>\n",
       "</div>"
      ],
      "text/plain": [
       "             user_id                                           user_url  \\\n",
       "0  76561197970982479  http://steamcommunity.com/profiles/76561197970...   \n",
       "1            js41637               http://steamcommunity.com/id/js41637   \n",
       "\n",
       "   reviews_item_id                                  reviews_helpful  \\\n",
       "0             1250                                   No ratings yet   \n",
       "1           251610  15 of 20 people (75%) found this review helpful   \n",
       "\n",
       "   reviews_recommend                                     reviews_review  \\\n",
       "0               True  Simple yet with great replayability. In my opi...   \n",
       "1               True  I know what you think when you see this title ...   \n",
       "\n",
       "  reviews_date  sentiment_analysis  \n",
       "0   2011-11-05                   1  \n",
       "1   2014-06-24                   1  "
      ]
     },
     "execution_count": 30,
     "metadata": {},
     "output_type": "execute_result"
    }
   ],
   "source": [
    "df_reviews.head(2)"
   ]
  },
  {
   "cell_type": "code",
   "execution_count": null,
   "metadata": {},
   "outputs": [
    {
     "data": {
      "text/html": [
       "<div>\n",
       "<style scoped>\n",
       "    .dataframe tbody tr th:only-of-type {\n",
       "        vertical-align: middle;\n",
       "    }\n",
       "\n",
       "    .dataframe tbody tr th {\n",
       "        vertical-align: top;\n",
       "    }\n",
       "\n",
       "    .dataframe thead th {\n",
       "        text-align: right;\n",
       "    }\n",
       "</style>\n",
       "<table border=\"1\" class=\"dataframe\">\n",
       "  <thead>\n",
       "    <tr style=\"text-align: right;\">\n",
       "      <th></th>\n",
       "      <th>item_id</th>\n",
       "      <th>item_name</th>\n",
       "      <th>playtime_forever</th>\n",
       "      <th>steam_id</th>\n",
       "      <th>items_count</th>\n",
       "      <th>user_id</th>\n",
       "      <th>user_url</th>\n",
       "    </tr>\n",
       "  </thead>\n",
       "  <tbody>\n",
       "    <tr>\n",
       "      <th>0</th>\n",
       "      <td>10</td>\n",
       "      <td>Counter-Strike</td>\n",
       "      <td>6</td>\n",
       "      <td>76561197970982479</td>\n",
       "      <td>277</td>\n",
       "      <td>76561197970982479</td>\n",
       "      <td>http://steamcommunity.com/profiles/76561197970...</td>\n",
       "    </tr>\n",
       "    <tr>\n",
       "      <th>1</th>\n",
       "      <td>20</td>\n",
       "      <td>Team Fortress Classic</td>\n",
       "      <td>0</td>\n",
       "      <td>76561197970982479</td>\n",
       "      <td>277</td>\n",
       "      <td>76561197970982479</td>\n",
       "      <td>http://steamcommunity.com/profiles/76561197970...</td>\n",
       "    </tr>\n",
       "  </tbody>\n",
       "</table>\n",
       "</div>"
      ],
      "text/plain": [
       "   item_id              item_name  playtime_forever           steam_id  \\\n",
       "0       10         Counter-Strike                 6  76561197970982479   \n",
       "1       20  Team Fortress Classic                 0  76561197970982479   \n",
       "\n",
       "   items_count            user_id  \\\n",
       "0          277  76561197970982479   \n",
       "1          277  76561197970982479   \n",
       "\n",
       "                                            user_url  \n",
       "0  http://steamcommunity.com/profiles/76561197970...  \n",
       "1  http://steamcommunity.com/profiles/76561197970...  "
      ]
     },
     "execution_count": 31,
     "metadata": {},
     "output_type": "execute_result"
    }
   ],
   "source": [
    "df_items.head(2)"
   ]
  },
  {
   "cell_type": "markdown",
   "metadata": {},
   "source": [
    "Con los datos disponible, se decide crear un puntaje (rating) para los juegos a partir de considerar el análisis de sentimiento de las reviews para cada juego y las recomendaciones del usuario para ese juego. Recordar que el análisis de sentimiento esta calificado como 0 (sentimiento negativo), 1 (sentimiento neutral) y 2 (sentimiento positivo) y las recomendaciones al juego son True (cuando lo recomienda) y False (cuando no recomienda el juego). Con esta información se busca hacer un puntaje del 1 al 5, siendo el 1 un juego no recomendado que cuentan con reviews con sentimientos negativos y 5 un juego recomendado y con reviews positivos. Se considera esta escala en función de la combinación de las dos variables de esta manera:\n",
    "\n",
    "* **1** si el análisis de sentimiento es negativo ya sea que este recomendado o no (True o False)\n",
    "* **2** si el análisis de sentimiento es neutral y no es recomendado (False)\n",
    "* **3** si el análisis de sentimiento es neutral pero es recomendado (True)\n",
    "* **4** si el análisis de sentimiento es positivo y no es recomendado (False)\n",
    "* **5** si el análisis de sentimiento es positivo y es recomendado (True)\n",
    "\n",
    "Con esto, se arma la siguiente función:"
   ]
  },
  {
   "cell_type": "code",
   "execution_count": null,
   "metadata": {},
   "outputs": [],
   "source": [
    "def calcula_rating(row):\n",
    "    if row[\"sentiment_analysis\"] == 0 and not row[\"reviews_recommend\"]:\n",
    "        return 1\n",
    "    elif row[\"sentiment_analysis\"] == 0 and row[\"reviews_recommend\"]:\n",
    "        return 1\n",
    "    elif row[\"sentiment_analysis\"] == 1 and not row[\"reviews_recommend\"]:\n",
    "        return 2\n",
    "    elif row[\"sentiment_analysis\"] == 1 and row[\"reviews_recommend\"]:\n",
    "        return 3\n",
    "    elif row[\"sentiment_analysis\"] == 2 and not row[\"reviews_recommend\"]:\n",
    "        return 4\n",
    "    elif row[\"sentiment_analysis\"] == 2 and row[\"reviews_recommend\"]:\n",
    "        return 5\n",
    "    else:\n",
    "        return None"
   ]
  },
  {
   "cell_type": "markdown",
   "metadata": {},
   "source": [
    "Se aplica esta función en una nueva columna sobre el dataframe `df_reviews`"
   ]
  },
  {
   "cell_type": "code",
   "execution_count": null,
   "metadata": {},
   "outputs": [
    {
     "data": {
      "text/html": [
       "<div>\n",
       "<style scoped>\n",
       "    .dataframe tbody tr th:only-of-type {\n",
       "        vertical-align: middle;\n",
       "    }\n",
       "\n",
       "    .dataframe tbody tr th {\n",
       "        vertical-align: top;\n",
       "    }\n",
       "\n",
       "    .dataframe thead th {\n",
       "        text-align: right;\n",
       "    }\n",
       "</style>\n",
       "<table border=\"1\" class=\"dataframe\">\n",
       "  <thead>\n",
       "    <tr style=\"text-align: right;\">\n",
       "      <th></th>\n",
       "      <th>user_id</th>\n",
       "      <th>user_url</th>\n",
       "      <th>reviews_item_id</th>\n",
       "      <th>reviews_helpful</th>\n",
       "      <th>reviews_recommend</th>\n",
       "      <th>reviews_review</th>\n",
       "      <th>reviews_date</th>\n",
       "      <th>sentiment_analysis</th>\n",
       "      <th>rating</th>\n",
       "    </tr>\n",
       "  </thead>\n",
       "  <tbody>\n",
       "    <tr>\n",
       "      <th>0</th>\n",
       "      <td>76561197970982479</td>\n",
       "      <td>http://steamcommunity.com/profiles/76561197970...</td>\n",
       "      <td>1250</td>\n",
       "      <td>No ratings yet</td>\n",
       "      <td>True</td>\n",
       "      <td>Simple yet with great replayability. In my opi...</td>\n",
       "      <td>2011-11-05</td>\n",
       "      <td>1</td>\n",
       "      <td>3</td>\n",
       "    </tr>\n",
       "    <tr>\n",
       "      <th>1</th>\n",
       "      <td>js41637</td>\n",
       "      <td>http://steamcommunity.com/id/js41637</td>\n",
       "      <td>251610</td>\n",
       "      <td>15 of 20 people (75%) found this review helpful</td>\n",
       "      <td>True</td>\n",
       "      <td>I know what you think when you see this title ...</td>\n",
       "      <td>2014-06-24</td>\n",
       "      <td>1</td>\n",
       "      <td>3</td>\n",
       "    </tr>\n",
       "  </tbody>\n",
       "</table>\n",
       "</div>"
      ],
      "text/plain": [
       "             user_id                                           user_url  \\\n",
       "0  76561197970982479  http://steamcommunity.com/profiles/76561197970...   \n",
       "1            js41637               http://steamcommunity.com/id/js41637   \n",
       "\n",
       "   reviews_item_id                                  reviews_helpful  \\\n",
       "0             1250                                   No ratings yet   \n",
       "1           251610  15 of 20 people (75%) found this review helpful   \n",
       "\n",
       "   reviews_recommend                                     reviews_review  \\\n",
       "0               True  Simple yet with great replayability. In my opi...   \n",
       "1               True  I know what you think when you see this title ...   \n",
       "\n",
       "  reviews_date  sentiment_analysis  rating  \n",
       "0   2011-11-05                   1       3  \n",
       "1   2014-06-24                   1       3  "
      ]
     },
     "execution_count": 33,
     "metadata": {},
     "output_type": "execute_result"
    }
   ],
   "source": [
    "df_reviews['rating'] = df_reviews.apply(calcula_rating, axis=1)\n",
    "df_reviews.head(2)"
   ]
  },
  {
   "cell_type": "markdown",
   "metadata": {},
   "source": [
    "Se crea un nuevo dataframe dejando solo las columnas 'user_id', 'reviews_item_id' y 'rating' y se reserva."
   ]
  },
  {
   "cell_type": "code",
   "execution_count": null,
   "metadata": {},
   "outputs": [
    {
     "data": {
      "text/html": [
       "<div>\n",
       "<style scoped>\n",
       "    .dataframe tbody tr th:only-of-type {\n",
       "        vertical-align: middle;\n",
       "    }\n",
       "\n",
       "    .dataframe tbody tr th {\n",
       "        vertical-align: top;\n",
       "    }\n",
       "\n",
       "    .dataframe thead th {\n",
       "        text-align: right;\n",
       "    }\n",
       "</style>\n",
       "<table border=\"1\" class=\"dataframe\">\n",
       "  <thead>\n",
       "    <tr style=\"text-align: right;\">\n",
       "      <th></th>\n",
       "      <th>user_id</th>\n",
       "      <th>reviews_item_id</th>\n",
       "      <th>rating</th>\n",
       "    </tr>\n",
       "  </thead>\n",
       "  <tbody>\n",
       "    <tr>\n",
       "      <th>0</th>\n",
       "      <td>76561197970982479</td>\n",
       "      <td>1250</td>\n",
       "      <td>3</td>\n",
       "    </tr>\n",
       "    <tr>\n",
       "      <th>1</th>\n",
       "      <td>js41637</td>\n",
       "      <td>251610</td>\n",
       "      <td>3</td>\n",
       "    </tr>\n",
       "  </tbody>\n",
       "</table>\n",
       "</div>"
      ],
      "text/plain": [
       "             user_id  reviews_item_id  rating\n",
       "0  76561197970982479             1250       3\n",
       "1            js41637           251610       3"
      ]
     },
     "execution_count": 34,
     "metadata": {},
     "output_type": "execute_result"
    }
   ],
   "source": [
    "df1 = df_reviews[['user_id', 'reviews_item_id', 'rating']]\n",
    "df1.head(2)"
   ]
  },
  {
   "cell_type": "markdown",
   "metadata": {},
   "source": [
    "Se crea otro datafrma que contenga unicamente los 'item_id' y los nombres de los juego."
   ]
  },
  {
   "cell_type": "code",
   "execution_count": null,
   "metadata": {},
   "outputs": [
    {
     "name": "stdout",
     "output_type": "stream",
     "text": [
      "Hay un total de 10978 juegos\n"
     ]
    },
    {
     "data": {
      "text/html": [
       "<div>\n",
       "<style scoped>\n",
       "    .dataframe tbody tr th:only-of-type {\n",
       "        vertical-align: middle;\n",
       "    }\n",
       "\n",
       "    .dataframe tbody tr th {\n",
       "        vertical-align: top;\n",
       "    }\n",
       "\n",
       "    .dataframe thead th {\n",
       "        text-align: right;\n",
       "    }\n",
       "</style>\n",
       "<table border=\"1\" class=\"dataframe\">\n",
       "  <thead>\n",
       "    <tr style=\"text-align: right;\">\n",
       "      <th></th>\n",
       "      <th>item_id</th>\n",
       "      <th>item_name</th>\n",
       "    </tr>\n",
       "  </thead>\n",
       "  <tbody>\n",
       "    <tr>\n",
       "      <th>0</th>\n",
       "      <td>10</td>\n",
       "      <td>Counter-Strike</td>\n",
       "    </tr>\n",
       "    <tr>\n",
       "      <th>1</th>\n",
       "      <td>20</td>\n",
       "      <td>Team Fortress Classic</td>\n",
       "    </tr>\n",
       "  </tbody>\n",
       "</table>\n",
       "</div>"
      ],
      "text/plain": [
       "   item_id              item_name\n",
       "0       10         Counter-Strike\n",
       "1       20  Team Fortress Classic"
      ]
     },
     "execution_count": 35,
     "metadata": {},
     "output_type": "execute_result"
    }
   ],
   "source": [
    "df2 = df_items[['item_id', 'item_name']]\n",
    "# Se borran los dumplicados\n",
    "df2 = df2.drop_duplicates()\n",
    "# Cantidad de juegos\n",
    "print(f'Hay un total de {len(df2)} juegos')\n",
    "df2.head(2)"
   ]
  },
  {
   "cell_type": "markdown",
   "metadata": {},
   "source": [
    "Luego se agregan los nombres de los juegos al primer dataframe."
   ]
  },
  {
   "cell_type": "code",
   "execution_count": null,
   "metadata": {},
   "outputs": [
    {
     "data": {
      "text/html": [
       "<div>\n",
       "<style scoped>\n",
       "    .dataframe tbody tr th:only-of-type {\n",
       "        vertical-align: middle;\n",
       "    }\n",
       "\n",
       "    .dataframe tbody tr th {\n",
       "        vertical-align: top;\n",
       "    }\n",
       "\n",
       "    .dataframe thead th {\n",
       "        text-align: right;\n",
       "    }\n",
       "</style>\n",
       "<table border=\"1\" class=\"dataframe\">\n",
       "  <thead>\n",
       "    <tr style=\"text-align: right;\">\n",
       "      <th></th>\n",
       "      <th>user_id</th>\n",
       "      <th>reviews_item_id</th>\n",
       "      <th>rating</th>\n",
       "      <th>item_id</th>\n",
       "      <th>item_name</th>\n",
       "    </tr>\n",
       "  </thead>\n",
       "  <tbody>\n",
       "    <tr>\n",
       "      <th>0</th>\n",
       "      <td>76561197970982479</td>\n",
       "      <td>1250</td>\n",
       "      <td>3</td>\n",
       "      <td>1250.0</td>\n",
       "      <td>Killing Floor</td>\n",
       "    </tr>\n",
       "    <tr>\n",
       "      <th>1</th>\n",
       "      <td>js41637</td>\n",
       "      <td>251610</td>\n",
       "      <td>3</td>\n",
       "      <td>251610.0</td>\n",
       "      <td>Barbie™ Dreamhouse Party™</td>\n",
       "    </tr>\n",
       "    <tr>\n",
       "      <th>2</th>\n",
       "      <td>evcentric</td>\n",
       "      <td>248820</td>\n",
       "      <td>5</td>\n",
       "      <td>248820.0</td>\n",
       "      <td>Risk of Rain</td>\n",
       "    </tr>\n",
       "    <tr>\n",
       "      <th>3</th>\n",
       "      <td>doctr</td>\n",
       "      <td>250320</td>\n",
       "      <td>5</td>\n",
       "      <td>250320.0</td>\n",
       "      <td>The Wolf Among Us</td>\n",
       "    </tr>\n",
       "    <tr>\n",
       "      <th>4</th>\n",
       "      <td>maplemage</td>\n",
       "      <td>211420</td>\n",
       "      <td>3</td>\n",
       "      <td>211420.0</td>\n",
       "      <td>Dark Souls: Prepare to Die Edition</td>\n",
       "    </tr>\n",
       "    <tr>\n",
       "      <th>...</th>\n",
       "      <td>...</td>\n",
       "      <td>...</td>\n",
       "      <td>...</td>\n",
       "      <td>...</td>\n",
       "      <td>...</td>\n",
       "    </tr>\n",
       "    <tr>\n",
       "      <th>57362</th>\n",
       "      <td>How51</td>\n",
       "      <td>440</td>\n",
       "      <td>3</td>\n",
       "      <td>NaN</td>\n",
       "      <td>NaN</td>\n",
       "    </tr>\n",
       "    <tr>\n",
       "      <th>57363</th>\n",
       "      <td>76561198111410893</td>\n",
       "      <td>304930</td>\n",
       "      <td>3</td>\n",
       "      <td>304930.0</td>\n",
       "      <td>Unturned</td>\n",
       "    </tr>\n",
       "    <tr>\n",
       "      <th>57364</th>\n",
       "      <td>zaza147</td>\n",
       "      <td>265630</td>\n",
       "      <td>5</td>\n",
       "      <td>265630.0</td>\n",
       "      <td>Fistful of Frags</td>\n",
       "    </tr>\n",
       "    <tr>\n",
       "      <th>57365</th>\n",
       "      <td>lifeonhigh</td>\n",
       "      <td>304050</td>\n",
       "      <td>3</td>\n",
       "      <td>304050.0</td>\n",
       "      <td>Trove</td>\n",
       "    </tr>\n",
       "    <tr>\n",
       "      <th>57366</th>\n",
       "      <td>EchoXSilence</td>\n",
       "      <td>570</td>\n",
       "      <td>2</td>\n",
       "      <td>NaN</td>\n",
       "      <td>NaN</td>\n",
       "    </tr>\n",
       "  </tbody>\n",
       "</table>\n",
       "<p>57367 rows × 5 columns</p>\n",
       "</div>"
      ],
      "text/plain": [
       "                 user_id  reviews_item_id  rating   item_id  \\\n",
       "0      76561197970982479             1250       3    1250.0   \n",
       "1                js41637           251610       3  251610.0   \n",
       "2              evcentric           248820       5  248820.0   \n",
       "3                  doctr           250320       5  250320.0   \n",
       "4              maplemage           211420       3  211420.0   \n",
       "...                  ...              ...     ...       ...   \n",
       "57362              How51              440       3       NaN   \n",
       "57363  76561198111410893           304930       3  304930.0   \n",
       "57364            zaza147           265630       5  265630.0   \n",
       "57365         lifeonhigh           304050       3  304050.0   \n",
       "57366       EchoXSilence              570       2       NaN   \n",
       "\n",
       "                                item_name  \n",
       "0                           Killing Floor  \n",
       "1               Barbie™ Dreamhouse Party™  \n",
       "2                            Risk of Rain  \n",
       "3                       The Wolf Among Us  \n",
       "4      Dark Souls: Prepare to Die Edition  \n",
       "...                                   ...  \n",
       "57362                                 NaN  \n",
       "57363                            Unturned  \n",
       "57364                    Fistful of Frags  \n",
       "57365                               Trove  \n",
       "57366                                 NaN  \n",
       "\n",
       "[57367 rows x 5 columns]"
      ]
     },
     "execution_count": 36,
     "metadata": {},
     "output_type": "execute_result"
    }
   ],
   "source": [
    "df = df1.merge(df2, left_on=\"reviews_item_id\", right_on=\"item_id\", how='left')\n",
    "df"
   ]
  },
  {
   "cell_type": "markdown",
   "metadata": {},
   "source": [
    "Se pueden observar algunos juegos a los cuales los usuarios les hicieron comentarios, pero que no estan en el dataframe `df_reviews`. Se verifican los tipos de datos y la cantidad de nulos y luego se revisan las filas con nulos."
   ]
  },
  {
   "cell_type": "code",
   "execution_count": null,
   "metadata": {},
   "outputs": [
    {
     "name": "stdout",
     "output_type": "stream",
     "text": [
      "         nombre_campo tipo_datos  no_nulos_%  nulos_%  nulos\n",
      "0             user_id     object       100.0      0.0      0\n",
      "1            user_url     object       100.0      0.0      0\n",
      "2     reviews_item_id      int64       100.0      0.0      0\n",
      "3     reviews_helpful     object       100.0      0.0      0\n",
      "4   reviews_recommend       bool       100.0      0.0      0\n",
      "5      reviews_review     object       100.0      0.0      0\n",
      "6        reviews_date     object       100.0      0.0      0\n",
      "7  sentiment_analysis      int64       100.0      0.0      0\n",
      "8              rating      int64       100.0      0.0      0\n"
     ]
    }
   ],
   "source": [
    "def obtener_informacion_columnas(df):\n",
    "    mi_dict = {\"nombre_campo\": [], \"tipo_datos\": [], \"no_nulos_%\": [], \"nulos_%\": [], \"nulos\": []}\n",
    "\n",
    "    for columna in df.columns:\n",
    "        porcentaje_no_nulos = (df[columna].count() / len(df)) * 100\n",
    "        mi_dict[\"nombre_campo\"].append(columna)\n",
    "        mi_dict[\"tipo_datos\"].append(df[columna].dtype)\n",
    "        mi_dict[\"no_nulos_%\"].append(round(porcentaje_no_nulos, 2))\n",
    "        mi_dict[\"nulos_%\"].append(round(100 - porcentaje_no_nulos, 2))\n",
    "        mi_dict[\"nulos\"].append(df[columna].isnull().sum())\n",
    "\n",
    "    df_info = pd.DataFrame(mi_dict)\n",
    "    return df_info\n",
    "informacion_columnas = obtener_informacion_columnas(df_reviews)\n",
    "print(informacion_columnas)\n",
    "\n"
   ]
  },
  {
   "cell_type": "code",
   "execution_count": null,
   "metadata": {},
   "outputs": [
    {
     "name": "stdout",
     "output_type": "stream",
     "text": [
      "Hay un total de 354 juegos con reviews pero que no estan en `df_reviews`\n"
     ]
    },
    {
     "data": {
      "text/html": [
       "<div>\n",
       "<style scoped>\n",
       "    .dataframe tbody tr th:only-of-type {\n",
       "        vertical-align: middle;\n",
       "    }\n",
       "\n",
       "    .dataframe tbody tr th {\n",
       "        vertical-align: top;\n",
       "    }\n",
       "\n",
       "    .dataframe thead th {\n",
       "        text-align: right;\n",
       "    }\n",
       "</style>\n",
       "<table border=\"1\" class=\"dataframe\">\n",
       "  <thead>\n",
       "    <tr style=\"text-align: right;\">\n",
       "      <th></th>\n",
       "      <th>user_id</th>\n",
       "      <th>reviews_item_id</th>\n",
       "      <th>rating</th>\n",
       "      <th>item_id</th>\n",
       "      <th>item_name</th>\n",
       "    </tr>\n",
       "  </thead>\n",
       "  <tbody>\n",
       "    <tr>\n",
       "      <th>10</th>\n",
       "      <td>76561198077246154</td>\n",
       "      <td>440</td>\n",
       "      <td>3</td>\n",
       "      <td>NaN</td>\n",
       "      <td>NaN</td>\n",
       "    </tr>\n",
       "    <tr>\n",
       "      <th>19</th>\n",
       "      <td>devvonst</td>\n",
       "      <td>440</td>\n",
       "      <td>5</td>\n",
       "      <td>NaN</td>\n",
       "      <td>NaN</td>\n",
       "    </tr>\n",
       "    <tr>\n",
       "      <th>28</th>\n",
       "      <td>76561198076909484</td>\n",
       "      <td>570</td>\n",
       "      <td>1</td>\n",
       "      <td>NaN</td>\n",
       "      <td>NaN</td>\n",
       "    </tr>\n",
       "    <tr>\n",
       "      <th>36</th>\n",
       "      <td>boydeer</td>\n",
       "      <td>440</td>\n",
       "      <td>3</td>\n",
       "      <td>NaN</td>\n",
       "      <td>NaN</td>\n",
       "    </tr>\n",
       "    <tr>\n",
       "      <th>43</th>\n",
       "      <td>jarrodtrim</td>\n",
       "      <td>440</td>\n",
       "      <td>5</td>\n",
       "      <td>NaN</td>\n",
       "      <td>NaN</td>\n",
       "    </tr>\n",
       "    <tr>\n",
       "      <th>...</th>\n",
       "      <td>...</td>\n",
       "      <td>...</td>\n",
       "      <td>...</td>\n",
       "      <td>...</td>\n",
       "      <td>...</td>\n",
       "    </tr>\n",
       "    <tr>\n",
       "      <th>57323</th>\n",
       "      <td>ViniReaper</td>\n",
       "      <td>440</td>\n",
       "      <td>5</td>\n",
       "      <td>NaN</td>\n",
       "      <td>NaN</td>\n",
       "    </tr>\n",
       "    <tr>\n",
       "      <th>57346</th>\n",
       "      <td>BlinkV1</td>\n",
       "      <td>440</td>\n",
       "      <td>3</td>\n",
       "      <td>NaN</td>\n",
       "      <td>NaN</td>\n",
       "    </tr>\n",
       "    <tr>\n",
       "      <th>57353</th>\n",
       "      <td>76561198095035915</td>\n",
       "      <td>440</td>\n",
       "      <td>1</td>\n",
       "      <td>NaN</td>\n",
       "      <td>NaN</td>\n",
       "    </tr>\n",
       "    <tr>\n",
       "      <th>57362</th>\n",
       "      <td>How51</td>\n",
       "      <td>440</td>\n",
       "      <td>3</td>\n",
       "      <td>NaN</td>\n",
       "      <td>NaN</td>\n",
       "    </tr>\n",
       "    <tr>\n",
       "      <th>57366</th>\n",
       "      <td>EchoXSilence</td>\n",
       "      <td>570</td>\n",
       "      <td>2</td>\n",
       "      <td>NaN</td>\n",
       "      <td>NaN</td>\n",
       "    </tr>\n",
       "  </tbody>\n",
       "</table>\n",
       "<p>6328 rows × 5 columns</p>\n",
       "</div>"
      ],
      "text/plain": [
       "                 user_id  reviews_item_id  rating  item_id item_name\n",
       "10     76561198077246154              440       3      NaN       NaN\n",
       "19              devvonst              440       5      NaN       NaN\n",
       "28     76561198076909484              570       1      NaN       NaN\n",
       "36               boydeer              440       3      NaN       NaN\n",
       "43            jarrodtrim              440       5      NaN       NaN\n",
       "...                  ...              ...     ...      ...       ...\n",
       "57323         ViniReaper              440       5      NaN       NaN\n",
       "57346            BlinkV1              440       3      NaN       NaN\n",
       "57353  76561198095035915              440       1      NaN       NaN\n",
       "57362              How51              440       3      NaN       NaN\n",
       "57366       EchoXSilence              570       2      NaN       NaN\n",
       "\n",
       "[6328 rows x 5 columns]"
      ]
     },
     "execution_count": 38,
     "metadata": {},
     "output_type": "execute_result"
    }
   ],
   "source": [
    "# se revisan los reviews sin nombres de juegos en `df_items`\n",
    "sin_juegos = df[df.isnull().any(axis=1)]\n",
    "# Se calculan la cantidad de juegos en esta situación\n",
    "print(f\"Hay un total de {len(sin_juegos['reviews_item_id'].unique())} juegos con reviews pero que no estan en `df_reviews`\")\n",
    "sin_juegos"
   ]
  },
  {
   "cell_type": "markdown",
   "metadata": {},
   "source": [
    "Se decide borrarlos del conjunto de datos."
   ]
  },
  {
   "cell_type": "code",
   "execution_count": null,
   "metadata": {},
   "outputs": [
    {
     "name": "stdout",
     "output_type": "stream",
     "text": [
      "Quedan 51039 registros\n",
      "         nombre_campo tipo_datos  no_nulos_%  nulos_%  nulos\n",
      "0             user_id     object       100.0      0.0      0\n",
      "1            user_url     object       100.0      0.0      0\n",
      "2     reviews_item_id      int64       100.0      0.0      0\n",
      "3     reviews_helpful     object       100.0      0.0      0\n",
      "4   reviews_recommend       bool       100.0      0.0      0\n",
      "5      reviews_review     object       100.0      0.0      0\n",
      "6        reviews_date     object       100.0      0.0      0\n",
      "7  sentiment_analysis      int64       100.0      0.0      0\n",
      "8              rating      int64       100.0      0.0      0\n"
     ]
    }
   ],
   "source": [
    "# Se borran los nulos\n",
    "df = df.dropna(subset=['item_id'])\n",
    "# Se cuentan los registros que quedan\n",
    "print(f'Quedan {df.shape[0]} registros')\n",
    "# Se verifican los tipo de dato y nulos\n",
    "def obtener_informacion_columnas(df):\n",
    "    mi_dict = {\"nombre_campo\": [], \"tipo_datos\": [], \"no_nulos_%\": [], \"nulos_%\": [], \"nulos\": []}\n",
    "\n",
    "    for columna in df.columns:\n",
    "        porcentaje_no_nulos = (df[columna].count() / len(df)) * 100\n",
    "        mi_dict[\"nombre_campo\"].append(columna)\n",
    "        mi_dict[\"tipo_datos\"].append(df[columna].dtype)\n",
    "        mi_dict[\"no_nulos_%\"].append(round(porcentaje_no_nulos, 2))\n",
    "        mi_dict[\"nulos_%\"].append(round(100 - porcentaje_no_nulos, 2))\n",
    "        mi_dict[\"nulos\"].append(df[columna].isnull().sum())\n",
    "\n",
    "    df_info = pd.DataFrame(mi_dict)\n",
    "    return df_info\n",
    "informacion_columnas = obtener_informacion_columnas(df_reviews)\n",
    "print(informacion_columnas)\n"
   ]
  },
  {
   "cell_type": "markdown",
   "metadata": {},
   "source": [
    "Se convierte en entero la columna 'item_id' y se crea un último dataframe con las columnas necesarias para los modelos de recomendación."
   ]
  },
  {
   "cell_type": "code",
   "execution_count": null,
   "metadata": {},
   "outputs": [
    {
     "data": {
      "text/html": [
       "<div>\n",
       "<style scoped>\n",
       "    .dataframe tbody tr th:only-of-type {\n",
       "        vertical-align: middle;\n",
       "    }\n",
       "\n",
       "    .dataframe tbody tr th {\n",
       "        vertical-align: top;\n",
       "    }\n",
       "\n",
       "    .dataframe thead th {\n",
       "        text-align: right;\n",
       "    }\n",
       "</style>\n",
       "<table border=\"1\" class=\"dataframe\">\n",
       "  <thead>\n",
       "    <tr style=\"text-align: right;\">\n",
       "      <th></th>\n",
       "      <th>user_id</th>\n",
       "      <th>item_name</th>\n",
       "      <th>rating</th>\n",
       "    </tr>\n",
       "  </thead>\n",
       "  <tbody>\n",
       "    <tr>\n",
       "      <th>0</th>\n",
       "      <td>76561197970982479</td>\n",
       "      <td>Killing Floor</td>\n",
       "      <td>3</td>\n",
       "    </tr>\n",
       "    <tr>\n",
       "      <th>1</th>\n",
       "      <td>js41637</td>\n",
       "      <td>Barbie™ Dreamhouse Party™</td>\n",
       "      <td>3</td>\n",
       "    </tr>\n",
       "    <tr>\n",
       "      <th>2</th>\n",
       "      <td>evcentric</td>\n",
       "      <td>Risk of Rain</td>\n",
       "      <td>5</td>\n",
       "    </tr>\n",
       "  </tbody>\n",
       "</table>\n",
       "</div>"
      ],
      "text/plain": [
       "             user_id                  item_name  rating\n",
       "0  76561197970982479              Killing Floor       3\n",
       "1            js41637  Barbie™ Dreamhouse Party™       3\n",
       "2          evcentric               Risk of Rain       5"
      ]
     },
     "execution_count": 40,
     "metadata": {},
     "output_type": "execute_result"
    }
   ],
   "source": [
    "df = df[['user_id', 'item_name', 'rating']]\n",
    "df.head(3)"
   ]
  },
  {
   "cell_type": "markdown",
   "metadata": {},
   "source": [
    "En el siguiente gráfico se pueden ver la cantidad de reviews distribuidos por el puntaje adoptado."
   ]
  },
  {
   "cell_type": "code",
   "execution_count": null,
   "metadata": {},
   "outputs": [
    {
     "data": {
      "image/png": "[encoded data removed]",
      "text/plain": [
       "<Figure size 1200x400 with 2 Axes>"
      ]
     },
     "metadata": {},
     "output_type": "display_data"
    }
   ],
   "source": [
    "# Agrupa las calificaciones por rating\n",
    "ratings_count = df['rating'].value_counts().reset_index()\n",
    "ratings_count.columns = ['rating', 'count']\n",
    "# Agrupa los juegos únicos por rating\n",
    "unique_games_per_rating = df.groupby('rating')['item_name'].nunique().reset_index()\n",
    "\n",
    "# Crea una figura con dos subplots\n",
    "fig, axes = plt.subplots(1, 2, figsize=(12, 4))\n",
    "\n",
    "# Primer subplot\n",
    "sns.barplot(data=ratings_count, x='rating', y='count', ax=axes[0])\n",
    "axes[0].set_title('Cantidad de reviews según los ratings') ; axes[0].set_xlabel('Rating') ; axes[0].set_ylabel('Cantidad revies')\n",
    "\n",
    "# Segundo subplot\n",
    "sns.barplot(data=unique_games_per_rating, x='rating', y='item_name', ax=axes[1])\n",
    "axes[1].set_title('Cantidad de Juegos por rating') ; axes[1].set_xlabel('Rating') ; axes[1].set_ylabel('Cantidad de juegos')\n",
    "\n",
    "# Ajusta y muestra los graficos\n",
    "plt.tight_layout()\n",
    "plt.show()"
   ]
  },
  {
   "cell_type": "code",
   "execution_count": null,
   "metadata": {},
   "outputs": [
    {
     "data": {
      "text/html": [
       "<div>\n",
       "<style scoped>\n",
       "    .dataframe tbody tr th:only-of-type {\n",
       "        vertical-align: middle;\n",
       "    }\n",
       "\n",
       "    .dataframe tbody tr th {\n",
       "        vertical-align: top;\n",
       "    }\n",
       "\n",
       "    .dataframe thead th {\n",
       "        text-align: right;\n",
       "    }\n",
       "</style>\n",
       "<table border=\"1\" class=\"dataframe\">\n",
       "  <thead>\n",
       "    <tr style=\"text-align: right;\">\n",
       "      <th></th>\n",
       "      <th>Cantidad</th>\n",
       "      <th>Porcentaje</th>\n",
       "    </tr>\n",
       "    <tr>\n",
       "      <th>rating</th>\n",
       "      <th></th>\n",
       "      <th></th>\n",
       "    </tr>\n",
       "  </thead>\n",
       "  <tbody>\n",
       "    <tr>\n",
       "      <th>3</th>\n",
       "      <td>27561</td>\n",
       "      <td>54.00</td>\n",
       "    </tr>\n",
       "    <tr>\n",
       "      <th>5</th>\n",
       "      <td>14237</td>\n",
       "      <td>27.89</td>\n",
       "    </tr>\n",
       "    <tr>\n",
       "      <th>1</th>\n",
       "      <td>4585</td>\n",
       "      <td>8.98</td>\n",
       "    </tr>\n",
       "    <tr>\n",
       "      <th>2</th>\n",
       "      <td>4103</td>\n",
       "      <td>8.04</td>\n",
       "    </tr>\n",
       "    <tr>\n",
       "      <th>4</th>\n",
       "      <td>553</td>\n",
       "      <td>1.08</td>\n",
       "    </tr>\n",
       "  </tbody>\n",
       "</table>\n",
       "</div>"
      ],
      "text/plain": [
       "        Cantidad  Porcentaje\n",
       "rating                      \n",
       "3          27561       54.00\n",
       "5          14237       27.89\n",
       "1           4585        8.98\n",
       "2           4103        8.04\n",
       "4            553        1.08"
      ]
     },
     "execution_count": 42,
     "metadata": {},
     "output_type": "execute_result"
    }
   ],
   "source": [
    "# Cantidades de review por rating\n",
    "def cant_porcentaje(df, columna):\n",
    "    # Cuanta la cantidad de True/False luego calcula el porcentaje\n",
    "    counts = df[columna].value_counts()\n",
    "    percentages = round(100 * counts / len(df),2)\n",
    "    # Crea un dataframe con el resumen\n",
    "    df_results = pd.DataFrame({\n",
    "        \"Cantidad\": counts,\n",
    "        \"Porcentaje\": percentages\n",
    "    })\n",
    "    return df_results\n",
    "cant_porcentaje(df, 'rating')"
   ]
  },
  {
   "cell_type": "code",
   "execution_count": null,
   "metadata": {},
   "outputs": [
    {
     "data": {
      "text/html": [
       "<div>\n",
       "<style scoped>\n",
       "    .dataframe tbody tr th:only-of-type {\n",
       "        vertical-align: middle;\n",
       "    }\n",
       "\n",
       "    .dataframe tbody tr th {\n",
       "        vertical-align: top;\n",
       "    }\n",
       "\n",
       "    .dataframe thead th {\n",
       "        text-align: right;\n",
       "    }\n",
       "</style>\n",
       "<table border=\"1\" class=\"dataframe\">\n",
       "  <thead>\n",
       "    <tr style=\"text-align: right;\">\n",
       "      <th></th>\n",
       "      <th>rating</th>\n",
       "      <th>item_name</th>\n",
       "    </tr>\n",
       "  </thead>\n",
       "  <tbody>\n",
       "    <tr>\n",
       "      <th>0</th>\n",
       "      <td>1</td>\n",
       "      <td>1114</td>\n",
       "    </tr>\n",
       "    <tr>\n",
       "      <th>1</th>\n",
       "      <td>2</td>\n",
       "      <td>1168</td>\n",
       "    </tr>\n",
       "    <tr>\n",
       "      <th>2</th>\n",
       "      <td>3</td>\n",
       "      <td>2451</td>\n",
       "    </tr>\n",
       "    <tr>\n",
       "      <th>3</th>\n",
       "      <td>4</td>\n",
       "      <td>292</td>\n",
       "    </tr>\n",
       "    <tr>\n",
       "      <th>4</th>\n",
       "      <td>5</td>\n",
       "      <td>1788</td>\n",
       "    </tr>\n",
       "  </tbody>\n",
       "</table>\n",
       "</div>"
      ],
      "text/plain": [
       "   rating  item_name\n",
       "0       1       1114\n",
       "1       2       1168\n",
       "2       3       2451\n",
       "3       4        292\n",
       "4       5       1788"
      ]
     },
     "execution_count": 43,
     "metadata": {},
     "output_type": "execute_result"
    }
   ],
   "source": [
    "# Cantidades de juegos por rating\n",
    "unique_games_per_rating"
   ]
  },
  {
   "cell_type": "markdown",
   "metadata": {},
   "source": [
    "Se puede ver en la gráfica de la derecha que la mayoría de las reviews tienen un 'rating' de 3, correspondiente a sentimientos neutrales pero que recomiendan el juego, siendo 27581 reviews (el 54% de los comentarios) en esta categoría. Le siguen 14237 reviews con sentimientos positivos y que recomiendan los juegos comentados. Finalmente, se observan menos de 6000 comentarios con sentimiento negativo. Por otro lado, en la gráfica de la izquierda se pueden observa cerca de 1800 juegos recomendados.\n",
    "\n",
    "Finalmente, se guarda el dataframe a utilizar en el modelo de recomnedación."
   ]
  },
  {
   "cell_type": "code",
   "execution_count": null,
   "metadata": {},
   "outputs": [],
   "source": [
    "df.to_csv('Datos/df_recomendacion.csv', index=False, encoding='utf-8')"
   ]
  }
 ],
 "metadata": {
  "kernelspec": {
   "display_name": "mlenv",
   "language": "python",
   "name": "python3"
  },
  "language_info": {
   "codemirror_mode": {
    "name": "ipython",
    "version": 3
   },
   "file_extension": ".py",
   "mimetype": "text/x-python",
   "name": "python",
   "nbconvert_exporter": "python",
   "pygments_lexer": "ipython3",
   "version": "3.11.4"
  },
  "orig_nbformat": 4
 },
 "nbformat": 4,
 "nbformat_minor": 2
}
